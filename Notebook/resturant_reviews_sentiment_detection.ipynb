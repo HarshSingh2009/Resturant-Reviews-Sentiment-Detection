{
  "cells": [
    {
      "cell_type": "markdown",
      "metadata": {
        "id": "7463147b-8f09-424a-bc3b-a557e3a57726"
      },
      "source": [
        "# **Resturant Reviews Sentiment Detection**\n",
        "> 🤔 In this project we are going to build a model that will be able to predict the Sentiment of a review given by a customer in a resturant. The model will be called `RRSDNet`"
      ],
      "id": "7463147b-8f09-424a-bc3b-a557e3a57726"
    },
    {
      "cell_type": "code",
      "execution_count": 1,
      "metadata": {
        "execution": {
          "iopub.execute_input": "2023-09-02T11:27:02.354831Z",
          "iopub.status.busy": "2023-09-02T11:27:02.354465Z",
          "iopub.status.idle": "2023-09-02T11:27:11.642096Z",
          "shell.execute_reply": "2023-09-02T11:27:11.641051Z",
          "shell.execute_reply.started": "2023-09-02T11:27:02.354799Z"
        },
        "id": "2bdeeb92-3a14-4013-9953-cd3a152d92af",
        "trusted": true
      },
      "outputs": [],
      "source": [
        "import tensorflow as tf\n",
        "import pandas as pd\n",
        "import numpy as np\n",
        "import matplotlib.pyplot as plt"
      ],
      "id": "2bdeeb92-3a14-4013-9953-cd3a152d92af"
    },
    {
      "cell_type": "markdown",
      "metadata": {
        "id": "2fa2008c-02ca-489c-86b8-882339c967d9"
      },
      "source": [
        "## Loading Data & Exploring Data"
      ],
      "id": "2fa2008c-02ca-489c-86b8-882339c967d9"
    },
    {
      "cell_type": "code",
      "execution_count": 3,
      "metadata": {
        "colab": {
          "base_uri": "https://localhost:8080/",
          "height": 206
        },
        "execution": {
          "iopub.execute_input": "2023-09-02T11:27:11.646911Z",
          "iopub.status.busy": "2023-09-02T11:27:11.646376Z",
          "iopub.status.idle": "2023-09-02T11:27:11.677868Z",
          "shell.execute_reply": "2023-09-02T11:27:11.676950Z",
          "shell.execute_reply.started": "2023-09-02T11:27:11.646882Z"
        },
        "id": "c9357693-e65a-4b41-a235-186486a34c86",
        "outputId": "64e73256-e21f-4a5c-ecf8-f40b78c44242",
        "trusted": true
      },
      "outputs": [
        {
          "output_type": "execute_result",
          "data": {
            "text/plain": [
              "                                             Reviews  Liked\n",
              "0                           Wow... Loved this place.      1\n",
              "1  Stopped by during the late May bank holiday of...      1\n",
              "2  The selection on the menu was great and so wer...      1\n",
              "3                          The fries were great too.      1\n",
              "4                                     A great touch.      1"
            ],
            "text/html": [
              "\n",
              "  <div id=\"df-7f7d7055-1813-46e8-8bdb-9c8c49fa62ba\" class=\"colab-df-container\">\n",
              "    <div>\n",
              "<style scoped>\n",
              "    .dataframe tbody tr th:only-of-type {\n",
              "        vertical-align: middle;\n",
              "    }\n",
              "\n",
              "    .dataframe tbody tr th {\n",
              "        vertical-align: top;\n",
              "    }\n",
              "\n",
              "    .dataframe thead th {\n",
              "        text-align: right;\n",
              "    }\n",
              "</style>\n",
              "<table border=\"1\" class=\"dataframe\">\n",
              "  <thead>\n",
              "    <tr style=\"text-align: right;\">\n",
              "      <th></th>\n",
              "      <th>Reviews</th>\n",
              "      <th>Liked</th>\n",
              "    </tr>\n",
              "  </thead>\n",
              "  <tbody>\n",
              "    <tr>\n",
              "      <th>0</th>\n",
              "      <td>Wow... Loved this place.</td>\n",
              "      <td>1</td>\n",
              "    </tr>\n",
              "    <tr>\n",
              "      <th>1</th>\n",
              "      <td>Stopped by during the late May bank holiday of...</td>\n",
              "      <td>1</td>\n",
              "    </tr>\n",
              "    <tr>\n",
              "      <th>2</th>\n",
              "      <td>The selection on the menu was great and so wer...</td>\n",
              "      <td>1</td>\n",
              "    </tr>\n",
              "    <tr>\n",
              "      <th>3</th>\n",
              "      <td>The fries were great too.</td>\n",
              "      <td>1</td>\n",
              "    </tr>\n",
              "    <tr>\n",
              "      <th>4</th>\n",
              "      <td>A great touch.</td>\n",
              "      <td>1</td>\n",
              "    </tr>\n",
              "  </tbody>\n",
              "</table>\n",
              "</div>\n",
              "    <div class=\"colab-df-buttons\">\n",
              "\n",
              "  <div class=\"colab-df-container\">\n",
              "    <button class=\"colab-df-convert\" onclick=\"convertToInteractive('df-7f7d7055-1813-46e8-8bdb-9c8c49fa62ba')\"\n",
              "            title=\"Convert this dataframe to an interactive table.\"\n",
              "            style=\"display:none;\">\n",
              "\n",
              "  <svg xmlns=\"http://www.w3.org/2000/svg\" height=\"24px\" viewBox=\"0 -960 960 960\">\n",
              "    <path d=\"M120-120v-720h720v720H120Zm60-500h600v-160H180v160Zm220 220h160v-160H400v160Zm0 220h160v-160H400v160ZM180-400h160v-160H180v160Zm440 0h160v-160H620v160ZM180-180h160v-160H180v160Zm440 0h160v-160H620v160Z\"/>\n",
              "  </svg>\n",
              "    </button>\n",
              "\n",
              "  <style>\n",
              "    .colab-df-container {\n",
              "      display:flex;\n",
              "      gap: 12px;\n",
              "    }\n",
              "\n",
              "    .colab-df-convert {\n",
              "      background-color: #E8F0FE;\n",
              "      border: none;\n",
              "      border-radius: 50%;\n",
              "      cursor: pointer;\n",
              "      display: none;\n",
              "      fill: #1967D2;\n",
              "      height: 32px;\n",
              "      padding: 0 0 0 0;\n",
              "      width: 32px;\n",
              "    }\n",
              "\n",
              "    .colab-df-convert:hover {\n",
              "      background-color: #E2EBFA;\n",
              "      box-shadow: 0px 1px 2px rgba(60, 64, 67, 0.3), 0px 1px 3px 1px rgba(60, 64, 67, 0.15);\n",
              "      fill: #174EA6;\n",
              "    }\n",
              "\n",
              "    .colab-df-buttons div {\n",
              "      margin-bottom: 4px;\n",
              "    }\n",
              "\n",
              "    [theme=dark] .colab-df-convert {\n",
              "      background-color: #3B4455;\n",
              "      fill: #D2E3FC;\n",
              "    }\n",
              "\n",
              "    [theme=dark] .colab-df-convert:hover {\n",
              "      background-color: #434B5C;\n",
              "      box-shadow: 0px 1px 3px 1px rgba(0, 0, 0, 0.15);\n",
              "      filter: drop-shadow(0px 1px 2px rgba(0, 0, 0, 0.3));\n",
              "      fill: #FFFFFF;\n",
              "    }\n",
              "  </style>\n",
              "\n",
              "    <script>\n",
              "      const buttonEl =\n",
              "        document.querySelector('#df-7f7d7055-1813-46e8-8bdb-9c8c49fa62ba button.colab-df-convert');\n",
              "      buttonEl.style.display =\n",
              "        google.colab.kernel.accessAllowed ? 'block' : 'none';\n",
              "\n",
              "      async function convertToInteractive(key) {\n",
              "        const element = document.querySelector('#df-7f7d7055-1813-46e8-8bdb-9c8c49fa62ba');\n",
              "        const dataTable =\n",
              "          await google.colab.kernel.invokeFunction('convertToInteractive',\n",
              "                                                    [key], {});\n",
              "        if (!dataTable) return;\n",
              "\n",
              "        const docLinkHtml = 'Like what you see? Visit the ' +\n",
              "          '<a target=\"_blank\" href=https://colab.research.google.com/notebooks/data_table.ipynb>data table notebook</a>'\n",
              "          + ' to learn more about interactive tables.';\n",
              "        element.innerHTML = '';\n",
              "        dataTable['output_type'] = 'display_data';\n",
              "        await google.colab.output.renderOutput(dataTable, element);\n",
              "        const docLink = document.createElement('div');\n",
              "        docLink.innerHTML = docLinkHtml;\n",
              "        element.appendChild(docLink);\n",
              "      }\n",
              "    </script>\n",
              "  </div>\n",
              "\n",
              "\n",
              "<div id=\"df-97ff88da-782c-4d52-80da-712f3a1a22bb\">\n",
              "  <button class=\"colab-df-quickchart\" onclick=\"quickchart('df-97ff88da-782c-4d52-80da-712f3a1a22bb')\"\n",
              "            title=\"Suggest charts.\"\n",
              "            style=\"display:none;\">\n",
              "\n",
              "<svg xmlns=\"http://www.w3.org/2000/svg\" height=\"24px\"viewBox=\"0 0 24 24\"\n",
              "     width=\"24px\">\n",
              "    <g>\n",
              "        <path d=\"M19 3H5c-1.1 0-2 .9-2 2v14c0 1.1.9 2 2 2h14c1.1 0 2-.9 2-2V5c0-1.1-.9-2-2-2zM9 17H7v-7h2v7zm4 0h-2V7h2v10zm4 0h-2v-4h2v4z\"/>\n",
              "    </g>\n",
              "</svg>\n",
              "  </button>\n",
              "\n",
              "<style>\n",
              "  .colab-df-quickchart {\n",
              "      --bg-color: #E8F0FE;\n",
              "      --fill-color: #1967D2;\n",
              "      --hover-bg-color: #E2EBFA;\n",
              "      --hover-fill-color: #174EA6;\n",
              "      --disabled-fill-color: #AAA;\n",
              "      --disabled-bg-color: #DDD;\n",
              "  }\n",
              "\n",
              "  [theme=dark] .colab-df-quickchart {\n",
              "      --bg-color: #3B4455;\n",
              "      --fill-color: #D2E3FC;\n",
              "      --hover-bg-color: #434B5C;\n",
              "      --hover-fill-color: #FFFFFF;\n",
              "      --disabled-bg-color: #3B4455;\n",
              "      --disabled-fill-color: #666;\n",
              "  }\n",
              "\n",
              "  .colab-df-quickchart {\n",
              "    background-color: var(--bg-color);\n",
              "    border: none;\n",
              "    border-radius: 50%;\n",
              "    cursor: pointer;\n",
              "    display: none;\n",
              "    fill: var(--fill-color);\n",
              "    height: 32px;\n",
              "    padding: 0;\n",
              "    width: 32px;\n",
              "  }\n",
              "\n",
              "  .colab-df-quickchart:hover {\n",
              "    background-color: var(--hover-bg-color);\n",
              "    box-shadow: 0 1px 2px rgba(60, 64, 67, 0.3), 0 1px 3px 1px rgba(60, 64, 67, 0.15);\n",
              "    fill: var(--button-hover-fill-color);\n",
              "  }\n",
              "\n",
              "  .colab-df-quickchart-complete:disabled,\n",
              "  .colab-df-quickchart-complete:disabled:hover {\n",
              "    background-color: var(--disabled-bg-color);\n",
              "    fill: var(--disabled-fill-color);\n",
              "    box-shadow: none;\n",
              "  }\n",
              "\n",
              "  .colab-df-spinner {\n",
              "    border: 2px solid var(--fill-color);\n",
              "    border-color: transparent;\n",
              "    border-bottom-color: var(--fill-color);\n",
              "    animation:\n",
              "      spin 1s steps(1) infinite;\n",
              "  }\n",
              "\n",
              "  @keyframes spin {\n",
              "    0% {\n",
              "      border-color: transparent;\n",
              "      border-bottom-color: var(--fill-color);\n",
              "      border-left-color: var(--fill-color);\n",
              "    }\n",
              "    20% {\n",
              "      border-color: transparent;\n",
              "      border-left-color: var(--fill-color);\n",
              "      border-top-color: var(--fill-color);\n",
              "    }\n",
              "    30% {\n",
              "      border-color: transparent;\n",
              "      border-left-color: var(--fill-color);\n",
              "      border-top-color: var(--fill-color);\n",
              "      border-right-color: var(--fill-color);\n",
              "    }\n",
              "    40% {\n",
              "      border-color: transparent;\n",
              "      border-right-color: var(--fill-color);\n",
              "      border-top-color: var(--fill-color);\n",
              "    }\n",
              "    60% {\n",
              "      border-color: transparent;\n",
              "      border-right-color: var(--fill-color);\n",
              "    }\n",
              "    80% {\n",
              "      border-color: transparent;\n",
              "      border-right-color: var(--fill-color);\n",
              "      border-bottom-color: var(--fill-color);\n",
              "    }\n",
              "    90% {\n",
              "      border-color: transparent;\n",
              "      border-bottom-color: var(--fill-color);\n",
              "    }\n",
              "  }\n",
              "</style>\n",
              "\n",
              "  <script>\n",
              "    async function quickchart(key) {\n",
              "      const quickchartButtonEl =\n",
              "        document.querySelector('#' + key + ' button');\n",
              "      quickchartButtonEl.disabled = true;  // To prevent multiple clicks.\n",
              "      quickchartButtonEl.classList.add('colab-df-spinner');\n",
              "      try {\n",
              "        const charts = await google.colab.kernel.invokeFunction(\n",
              "            'suggestCharts', [key], {});\n",
              "      } catch (error) {\n",
              "        console.error('Error during call to suggestCharts:', error);\n",
              "      }\n",
              "      quickchartButtonEl.classList.remove('colab-df-spinner');\n",
              "      quickchartButtonEl.classList.add('colab-df-quickchart-complete');\n",
              "    }\n",
              "    (() => {\n",
              "      let quickchartButtonEl =\n",
              "        document.querySelector('#df-97ff88da-782c-4d52-80da-712f3a1a22bb button');\n",
              "      quickchartButtonEl.style.display =\n",
              "        google.colab.kernel.accessAllowed ? 'block' : 'none';\n",
              "    })();\n",
              "  </script>\n",
              "</div>\n",
              "    </div>\n",
              "  </div>\n"
            ]
          },
          "metadata": {},
          "execution_count": 3
        }
      ],
      "source": [
        "df = pd.read_csv('/content/sentiment_formated.csv', encoding='latin-1')\n",
        "df.head()"
      ],
      "id": "c9357693-e65a-4b41-a235-186486a34c86"
    },
    {
      "cell_type": "code",
      "execution_count": 4,
      "metadata": {
        "colab": {
          "base_uri": "https://localhost:8080/"
        },
        "execution": {
          "iopub.execute_input": "2023-09-02T11:27:11.679719Z",
          "iopub.status.busy": "2023-09-02T11:27:11.679242Z",
          "iopub.status.idle": "2023-09-02T11:27:11.686309Z",
          "shell.execute_reply": "2023-09-02T11:27:11.685309Z",
          "shell.execute_reply.started": "2023-09-02T11:27:11.679684Z"
        },
        "id": "b95d0038-77c2-48fa-8478-ff38fd54d06a",
        "outputId": "cca2f2fe-4c57-463f-f9d1-e9b77dfc0836",
        "trusted": true
      },
      "outputs": [
        {
          "output_type": "execute_result",
          "data": {
            "text/plain": [
              "(1000, 2)"
            ]
          },
          "metadata": {},
          "execution_count": 4
        }
      ],
      "source": [
        "df.shape"
      ],
      "id": "b95d0038-77c2-48fa-8478-ff38fd54d06a"
    },
    {
      "cell_type": "code",
      "execution_count": 5,
      "metadata": {
        "colab": {
          "base_uri": "https://localhost:8080/"
        },
        "execution": {
          "iopub.execute_input": "2023-09-02T11:27:11.690177Z",
          "iopub.status.busy": "2023-09-02T11:27:11.689164Z",
          "iopub.status.idle": "2023-09-02T11:27:11.702816Z",
          "shell.execute_reply": "2023-09-02T11:27:11.701642Z",
          "shell.execute_reply.started": "2023-09-02T11:27:11.690144Z"
        },
        "id": "c4ba9d80-9e53-4980-a804-55f7b49b0c79",
        "outputId": "c71338dc-c644-421d-d31f-e6c1747d387d",
        "trusted": true
      },
      "outputs": [
        {
          "output_type": "execute_result",
          "data": {
            "text/plain": [
              "Reviews    0\n",
              "Liked      0\n",
              "dtype: int64"
            ]
          },
          "metadata": {},
          "execution_count": 5
        }
      ],
      "source": [
        "# checking for nan values\n",
        "df.isnull().sum()"
      ],
      "id": "c4ba9d80-9e53-4980-a804-55f7b49b0c79"
    },
    {
      "cell_type": "code",
      "execution_count": 6,
      "metadata": {
        "colab": {
          "base_uri": "https://localhost:8080/"
        },
        "execution": {
          "iopub.execute_input": "2023-09-02T11:27:11.704383Z",
          "iopub.status.busy": "2023-09-02T11:27:11.704078Z",
          "iopub.status.idle": "2023-09-02T11:27:11.718297Z",
          "shell.execute_reply": "2023-09-02T11:27:11.717191Z",
          "shell.execute_reply.started": "2023-09-02T11:27:11.704360Z"
        },
        "id": "ea819dfc-1891-4228-a36c-ad6ceef40cb4",
        "outputId": "1f15ee9c-1fb5-4fb9-9c5d-3fb399eb2ea5",
        "trusted": true
      },
      "outputs": [
        {
          "output_type": "execute_result",
          "data": {
            "text/plain": [
              "6"
            ]
          },
          "metadata": {},
          "execution_count": 6
        }
      ],
      "source": [
        "# checking for duplicated_values\n",
        "df.duplicated().sum()"
      ],
      "id": "ea819dfc-1891-4228-a36c-ad6ceef40cb4"
    },
    {
      "cell_type": "code",
      "execution_count": 7,
      "metadata": {
        "execution": {
          "iopub.execute_input": "2023-09-02T11:27:11.720457Z",
          "iopub.status.busy": "2023-09-02T11:27:11.719957Z",
          "iopub.status.idle": "2023-09-02T11:27:11.729528Z",
          "shell.execute_reply": "2023-09-02T11:27:11.728554Z",
          "shell.execute_reply.started": "2023-09-02T11:27:11.720424Z"
        },
        "id": "3360a711-5314-4964-8689-0df767a26c76",
        "trusted": true
      },
      "outputs": [],
      "source": [
        "df = df.drop_duplicates()"
      ],
      "id": "3360a711-5314-4964-8689-0df767a26c76"
    },
    {
      "cell_type": "code",
      "execution_count": 8,
      "metadata": {
        "colab": {
          "base_uri": "https://localhost:8080/"
        },
        "execution": {
          "iopub.execute_input": "2023-09-02T11:27:11.731516Z",
          "iopub.status.busy": "2023-09-02T11:27:11.731122Z",
          "iopub.status.idle": "2023-09-02T11:27:11.750571Z",
          "shell.execute_reply": "2023-09-02T11:27:11.749491Z",
          "shell.execute_reply.started": "2023-09-02T11:27:11.731482Z"
        },
        "id": "2e6cab31-1b6f-43e9-a20b-0c2f6689c35b",
        "outputId": "d3bf700b-fd0c-44e6-bc47-5f112fd19082",
        "trusted": true
      },
      "outputs": [
        {
          "output_type": "stream",
          "name": "stdout",
          "text": [
            "<class 'pandas.core.frame.DataFrame'>\n",
            "Int64Index: 994 entries, 0 to 999\n",
            "Data columns (total 2 columns):\n",
            " #   Column   Non-Null Count  Dtype \n",
            "---  ------   --------------  ----- \n",
            " 0   Reviews  994 non-null    object\n",
            " 1   Liked    994 non-null    int64 \n",
            "dtypes: int64(1), object(1)\n",
            "memory usage: 23.3+ KB\n"
          ]
        }
      ],
      "source": [
        "df.info()"
      ],
      "id": "2e6cab31-1b6f-43e9-a20b-0c2f6689c35b"
    },
    {
      "cell_type": "code",
      "execution_count": 9,
      "metadata": {
        "colab": {
          "base_uri": "https://localhost:8080/",
          "height": 466
        },
        "execution": {
          "iopub.execute_input": "2023-09-02T11:27:11.752693Z",
          "iopub.status.busy": "2023-09-02T11:27:11.752359Z",
          "iopub.status.idle": "2023-09-02T11:27:12.519005Z",
          "shell.execute_reply": "2023-09-02T11:27:12.518025Z",
          "shell.execute_reply.started": "2023-09-02T11:27:11.752662Z"
        },
        "id": "3f06aedf-c529-4de7-bb14-5f3c860920fd",
        "outputId": "259e8447-522d-42c1-cdc5-6d7f86d4a787",
        "trusted": true
      },
      "outputs": [
        {
          "output_type": "execute_result",
          "data": {
            "text/plain": [
              "<Axes: xlabel='Liked', ylabel='count'>"
            ]
          },
          "metadata": {},
          "execution_count": 9
        },
        {
          "output_type": "display_data",
          "data": {
            "text/plain": [
              "<Figure size 640x480 with 1 Axes>"
            ],
            "image/png": "[encoded data removed]"
          },
          "metadata": {}
        }
      ],
      "source": [
        "import seaborn as sns\n",
        "sns.countplot(x='Liked', data=df)"
      ],
      "id": "3f06aedf-c529-4de7-bb14-5f3c860920fd"
    },
    {
      "cell_type": "code",
      "execution_count": 10,
      "metadata": {
        "colab": {
          "base_uri": "https://localhost:8080/",
          "height": 206
        },
        "execution": {
          "iopub.execute_input": "2023-09-02T11:27:12.521162Z",
          "iopub.status.busy": "2023-09-02T11:27:12.520227Z",
          "iopub.status.idle": "2023-09-02T11:27:12.533017Z",
          "shell.execute_reply": "2023-09-02T11:27:12.532174Z",
          "shell.execute_reply.started": "2023-09-02T11:27:12.521103Z"
        },
        "id": "dcfd24c4-917d-4899-a283-b6698f79b465",
        "outputId": "b06ca3a8-3ea0-4c62-f3f0-73bc6c1e487f",
        "trusted": true
      },
      "outputs": [
        {
          "output_type": "execute_result",
          "data": {
            "text/plain": [
              "                                               Reviews  Liked\n",
              "239                     Service is quick and friendly.      1\n",
              "91         Restaurant is always full but never a wait.      1\n",
              "962  She was quite disappointed although some blame...      0\n",
              "944  The cashew cream sauce was bland and the veget...      0\n",
              "269           Delicious and I will absolutely be back!      1"
            ],
            "text/html": [
              "\n",
              "  <div id=\"df-cf139e18-0ae7-4532-b513-2dc8674d324e\" class=\"colab-df-container\">\n",
              "    <div>\n",
              "<style scoped>\n",
              "    .dataframe tbody tr th:only-of-type {\n",
              "        vertical-align: middle;\n",
              "    }\n",
              "\n",
              "    .dataframe tbody tr th {\n",
              "        vertical-align: top;\n",
              "    }\n",
              "\n",
              "    .dataframe thead th {\n",
              "        text-align: right;\n",
              "    }\n",
              "</style>\n",
              "<table border=\"1\" class=\"dataframe\">\n",
              "  <thead>\n",
              "    <tr style=\"text-align: right;\">\n",
              "      <th></th>\n",
              "      <th>Reviews</th>\n",
              "      <th>Liked</th>\n",
              "    </tr>\n",
              "  </thead>\n",
              "  <tbody>\n",
              "    <tr>\n",
              "      <th>239</th>\n",
              "      <td>Service is quick and friendly.</td>\n",
              "      <td>1</td>\n",
              "    </tr>\n",
              "    <tr>\n",
              "      <th>91</th>\n",
              "      <td>Restaurant is always full but never a wait.</td>\n",
              "      <td>1</td>\n",
              "    </tr>\n",
              "    <tr>\n",
              "      <th>962</th>\n",
              "      <td>She was quite disappointed although some blame...</td>\n",
              "      <td>0</td>\n",
              "    </tr>\n",
              "    <tr>\n",
              "      <th>944</th>\n",
              "      <td>The cashew cream sauce was bland and the veget...</td>\n",
              "      <td>0</td>\n",
              "    </tr>\n",
              "    <tr>\n",
              "      <th>269</th>\n",
              "      <td>Delicious and I will absolutely be back!</td>\n",
              "      <td>1</td>\n",
              "    </tr>\n",
              "  </tbody>\n",
              "</table>\n",
              "</div>\n",
              "    <div class=\"colab-df-buttons\">\n",
              "\n",
              "  <div class=\"colab-df-container\">\n",
              "    <button class=\"colab-df-convert\" onclick=\"convertToInteractive('df-cf139e18-0ae7-4532-b513-2dc8674d324e')\"\n",
              "            title=\"Convert this dataframe to an interactive table.\"\n",
              "            style=\"display:none;\">\n",
              "\n",
              "  <svg xmlns=\"http://www.w3.org/2000/svg\" height=\"24px\" viewBox=\"0 -960 960 960\">\n",
              "    <path d=\"M120-120v-720h720v720H120Zm60-500h600v-160H180v160Zm220 220h160v-160H400v160Zm0 220h160v-160H400v160ZM180-400h160v-160H180v160Zm440 0h160v-160H620v160ZM180-180h160v-160H180v160Zm440 0h160v-160H620v160Z\"/>\n",
              "  </svg>\n",
              "    </button>\n",
              "\n",
              "  <style>\n",
              "    .colab-df-container {\n",
              "      display:flex;\n",
              "      gap: 12px;\n",
              "    }\n",
              "\n",
              "    .colab-df-convert {\n",
              "      background-color: #E8F0FE;\n",
              "      border: none;\n",
              "      border-radius: 50%;\n",
              "      cursor: pointer;\n",
              "      display: none;\n",
              "      fill: #1967D2;\n",
              "      height: 32px;\n",
              "      padding: 0 0 0 0;\n",
              "      width: 32px;\n",
              "    }\n",
              "\n",
              "    .colab-df-convert:hover {\n",
              "      background-color: #E2EBFA;\n",
              "      box-shadow: 0px 1px 2px rgba(60, 64, 67, 0.3), 0px 1px 3px 1px rgba(60, 64, 67, 0.15);\n",
              "      fill: #174EA6;\n",
              "    }\n",
              "\n",
              "    .colab-df-buttons div {\n",
              "      margin-bottom: 4px;\n",
              "    }\n",
              "\n",
              "    [theme=dark] .colab-df-convert {\n",
              "      background-color: #3B4455;\n",
              "      fill: #D2E3FC;\n",
              "    }\n",
              "\n",
              "    [theme=dark] .colab-df-convert:hover {\n",
              "      background-color: #434B5C;\n",
              "      box-shadow: 0px 1px 3px 1px rgba(0, 0, 0, 0.15);\n",
              "      filter: drop-shadow(0px 1px 2px rgba(0, 0, 0, 0.3));\n",
              "      fill: #FFFFFF;\n",
              "    }\n",
              "  </style>\n",
              "\n",
              "    <script>\n",
              "      const buttonEl =\n",
              "        document.querySelector('#df-cf139e18-0ae7-4532-b513-2dc8674d324e button.colab-df-convert');\n",
              "      buttonEl.style.display =\n",
              "        google.colab.kernel.accessAllowed ? 'block' : 'none';\n",
              "\n",
              "      async function convertToInteractive(key) {\n",
              "        const element = document.querySelector('#df-cf139e18-0ae7-4532-b513-2dc8674d324e');\n",
              "        const dataTable =\n",
              "          await google.colab.kernel.invokeFunction('convertToInteractive',\n",
              "                                                    [key], {});\n",
              "        if (!dataTable) return;\n",
              "\n",
              "        const docLinkHtml = 'Like what you see? Visit the ' +\n",
              "          '<a target=\"_blank\" href=https://colab.research.google.com/notebooks/data_table.ipynb>data table notebook</a>'\n",
              "          + ' to learn more about interactive tables.';\n",
              "        element.innerHTML = '';\n",
              "        dataTable['output_type'] = 'display_data';\n",
              "        await google.colab.output.renderOutput(dataTable, element);\n",
              "        const docLink = document.createElement('div');\n",
              "        docLink.innerHTML = docLinkHtml;\n",
              "        element.appendChild(docLink);\n",
              "      }\n",
              "    </script>\n",
              "  </div>\n",
              "\n",
              "\n",
              "<div id=\"df-9f40b6b9-17b0-4694-96b7-7d9aa240fde1\">\n",
              "  <button class=\"colab-df-quickchart\" onclick=\"quickchart('df-9f40b6b9-17b0-4694-96b7-7d9aa240fde1')\"\n",
              "            title=\"Suggest charts.\"\n",
              "            style=\"display:none;\">\n",
              "\n",
              "<svg xmlns=\"http://www.w3.org/2000/svg\" height=\"24px\"viewBox=\"0 0 24 24\"\n",
              "     width=\"24px\">\n",
              "    <g>\n",
              "        <path d=\"M19 3H5c-1.1 0-2 .9-2 2v14c0 1.1.9 2 2 2h14c1.1 0 2-.9 2-2V5c0-1.1-.9-2-2-2zM9 17H7v-7h2v7zm4 0h-2V7h2v10zm4 0h-2v-4h2v4z\"/>\n",
              "    </g>\n",
              "</svg>\n",
              "  </button>\n",
              "\n",
              "<style>\n",
              "  .colab-df-quickchart {\n",
              "      --bg-color: #E8F0FE;\n",
              "      --fill-color: #1967D2;\n",
              "      --hover-bg-color: #E2EBFA;\n",
              "      --hover-fill-color: #174EA6;\n",
              "      --disabled-fill-color: #AAA;\n",
              "      --disabled-bg-color: #DDD;\n",
              "  }\n",
              "\n",
              "  [theme=dark] .colab-df-quickchart {\n",
              "      --bg-color: #3B4455;\n",
              "      --fill-color: #D2E3FC;\n",
              "      --hover-bg-color: #434B5C;\n",
              "      --hover-fill-color: #FFFFFF;\n",
              "      --disabled-bg-color: #3B4455;\n",
              "      --disabled-fill-color: #666;\n",
              "  }\n",
              "\n",
              "  .colab-df-quickchart {\n",
              "    background-color: var(--bg-color);\n",
              "    border: none;\n",
              "    border-radius: 50%;\n",
              "    cursor: pointer;\n",
              "    display: none;\n",
              "    fill: var(--fill-color);\n",
              "    height: 32px;\n",
              "    padding: 0;\n",
              "    width: 32px;\n",
              "  }\n",
              "\n",
              "  .colab-df-quickchart:hover {\n",
              "    background-color: var(--hover-bg-color);\n",
              "    box-shadow: 0 1px 2px rgba(60, 64, 67, 0.3), 0 1px 3px 1px rgba(60, 64, 67, 0.15);\n",
              "    fill: var(--button-hover-fill-color);\n",
              "  }\n",
              "\n",
              "  .colab-df-quickchart-complete:disabled,\n",
              "  .colab-df-quickchart-complete:disabled:hover {\n",
              "    background-color: var(--disabled-bg-color);\n",
              "    fill: var(--disabled-fill-color);\n",
              "    box-shadow: none;\n",
              "  }\n",
              "\n",
              "  .colab-df-spinner {\n",
              "    border: 2px solid var(--fill-color);\n",
              "    border-color: transparent;\n",
              "    border-bottom-color: var(--fill-color);\n",
              "    animation:\n",
              "      spin 1s steps(1) infinite;\n",
              "  }\n",
              "\n",
              "  @keyframes spin {\n",
              "    0% {\n",
              "      border-color: transparent;\n",
              "      border-bottom-color: var(--fill-color);\n",
              "      border-left-color: var(--fill-color);\n",
              "    }\n",
              "    20% {\n",
              "      border-color: transparent;\n",
              "      border-left-color: var(--fill-color);\n",
              "      border-top-color: var(--fill-color);\n",
              "    }\n",
              "    30% {\n",
              "      border-color: transparent;\n",
              "      border-left-color: var(--fill-color);\n",
              "      border-top-color: var(--fill-color);\n",
              "      border-right-color: var(--fill-color);\n",
              "    }\n",
              "    40% {\n",
              "      border-color: transparent;\n",
              "      border-right-color: var(--fill-color);\n",
              "      border-top-color: var(--fill-color);\n",
              "    }\n",
              "    60% {\n",
              "      border-color: transparent;\n",
              "      border-right-color: var(--fill-color);\n",
              "    }\n",
              "    80% {\n",
              "      border-color: transparent;\n",
              "      border-right-color: var(--fill-color);\n",
              "      border-bottom-color: var(--fill-color);\n",
              "    }\n",
              "    90% {\n",
              "      border-color: transparent;\n",
              "      border-bottom-color: var(--fill-color);\n",
              "    }\n",
              "  }\n",
              "</style>\n",
              "\n",
              "  <script>\n",
              "    async function quickchart(key) {\n",
              "      const quickchartButtonEl =\n",
              "        document.querySelector('#' + key + ' button');\n",
              "      quickchartButtonEl.disabled = true;  // To prevent multiple clicks.\n",
              "      quickchartButtonEl.classList.add('colab-df-spinner');\n",
              "      try {\n",
              "        const charts = await google.colab.kernel.invokeFunction(\n",
              "            'suggestCharts', [key], {});\n",
              "      } catch (error) {\n",
              "        console.error('Error during call to suggestCharts:', error);\n",
              "      }\n",
              "      quickchartButtonEl.classList.remove('colab-df-spinner');\n",
              "      quickchartButtonEl.classList.add('colab-df-quickchart-complete');\n",
              "    }\n",
              "    (() => {\n",
              "      let quickchartButtonEl =\n",
              "        document.querySelector('#df-9f40b6b9-17b0-4694-96b7-7d9aa240fde1 button');\n",
              "      quickchartButtonEl.style.display =\n",
              "        google.colab.kernel.accessAllowed ? 'block' : 'none';\n",
              "    })();\n",
              "  </script>\n",
              "</div>\n",
              "    </div>\n",
              "  </div>\n"
            ]
          },
          "metadata": {},
          "execution_count": 10
        }
      ],
      "source": [
        "df = df.sample(frac=1)\n",
        "df.head()"
      ],
      "id": "dcfd24c4-917d-4899-a283-b6698f79b465"
    },
    {
      "cell_type": "code",
      "execution_count": 11,
      "metadata": {
        "colab": {
          "base_uri": "https://localhost:8080/"
        },
        "execution": {
          "iopub.execute_input": "2023-09-02T11:27:12.538054Z",
          "iopub.status.busy": "2023-09-02T11:27:12.537476Z",
          "iopub.status.idle": "2023-09-02T11:27:12.546672Z",
          "shell.execute_reply": "2023-09-02T11:27:12.545806Z",
          "shell.execute_reply.started": "2023-09-02T11:27:12.538028Z"
        },
        "id": "62873eac-b7d0-476e-87da-eae09c4083d9",
        "outputId": "17c49a6c-b7e7-4d10-e1d6-bc11fb2d3463",
        "trusted": true
      },
      "outputs": [
        {
          "output_type": "execute_result",
          "data": {
            "text/plain": [
              "(994, 2)"
            ]
          },
          "metadata": {},
          "execution_count": 11
        }
      ],
      "source": [
        "df.shape"
      ],
      "id": "62873eac-b7d0-476e-87da-eae09c4083d9"
    },
    {
      "cell_type": "code",
      "execution_count": 12,
      "metadata": {
        "execution": {
          "iopub.execute_input": "2023-09-02T11:27:12.548008Z",
          "iopub.status.busy": "2023-09-02T11:27:12.547690Z",
          "iopub.status.idle": "2023-09-02T11:27:12.556137Z",
          "shell.execute_reply": "2023-09-02T11:27:12.554955Z",
          "shell.execute_reply.started": "2023-09-02T11:27:12.547976Z"
        },
        "id": "5755a180-a607-4e49-a6f3-0970bb304cd2",
        "trusted": true
      },
      "outputs": [],
      "source": [
        "X = df.drop('Liked', axis=1).to_numpy()[:, 0]\n",
        "y = df['Liked'].to_numpy()"
      ],
      "id": "5755a180-a607-4e49-a6f3-0970bb304cd2"
    },
    {
      "cell_type": "code",
      "execution_count": 13,
      "metadata": {
        "colab": {
          "base_uri": "https://localhost:8080/"
        },
        "execution": {
          "iopub.execute_input": "2023-09-02T11:27:12.557715Z",
          "iopub.status.busy": "2023-09-02T11:27:12.557470Z",
          "iopub.status.idle": "2023-09-02T11:27:12.569421Z",
          "shell.execute_reply": "2023-09-02T11:27:12.568240Z",
          "shell.execute_reply.started": "2023-09-02T11:27:12.557694Z"
        },
        "id": "aebff8ce-6be9-4ff0-ba4b-e54580fa04d6",
        "outputId": "838bb6aa-d1f3-483d-d574-894d8d30cdd8",
        "trusted": true
      },
      "outputs": [
        {
          "output_type": "execute_result",
          "data": {
            "text/plain": [
              "((994,), (994,))"
            ]
          },
          "metadata": {},
          "execution_count": 13
        }
      ],
      "source": [
        "X.shape, y.shape"
      ],
      "id": "aebff8ce-6be9-4ff0-ba4b-e54580fa04d6"
    },
    {
      "cell_type": "code",
      "execution_count": 14,
      "metadata": {
        "colab": {
          "base_uri": "https://localhost:8080/"
        },
        "execution": {
          "iopub.execute_input": "2023-09-02T11:27:12.570997Z",
          "iopub.status.busy": "2023-09-02T11:27:12.570751Z",
          "iopub.status.idle": "2023-09-02T11:27:12.580156Z",
          "shell.execute_reply": "2023-09-02T11:27:12.578997Z",
          "shell.execute_reply.started": "2023-09-02T11:27:12.570975Z"
        },
        "id": "29ced192-0712-447d-b14c-2382bbeec41d",
        "outputId": "5e84e2e0-45e8-47a7-9047-96e1d1008357",
        "trusted": true
      },
      "outputs": [
        {
          "output_type": "execute_result",
          "data": {
            "text/plain": [
              "array(['Service is quick and friendly.',\n",
              "       'Restaurant is always full but never a wait.',\n",
              "       'She was quite disappointed although some blame needs to be placed at her door.',\n",
              "       'The cashew cream sauce was bland and the vegetables were undercooked.',\n",
              "       'Delicious and I will absolutely be back!'], dtype=object)"
            ]
          },
          "metadata": {},
          "execution_count": 14
        }
      ],
      "source": [
        "X[:5]"
      ],
      "id": "29ced192-0712-447d-b14c-2382bbeec41d"
    },
    {
      "cell_type": "code",
      "execution_count": 15,
      "metadata": {
        "colab": {
          "base_uri": "https://localhost:8080/"
        },
        "execution": {
          "iopub.execute_input": "2023-09-02T11:27:12.581561Z",
          "iopub.status.busy": "2023-09-02T11:27:12.581043Z",
          "iopub.status.idle": "2023-09-02T11:27:12.592725Z",
          "shell.execute_reply": "2023-09-02T11:27:12.591641Z",
          "shell.execute_reply.started": "2023-09-02T11:27:12.581531Z"
        },
        "id": "21bdac12-3f54-464d-9c66-bab96b4bdeaa",
        "outputId": "e7022c17-35e4-49c1-9ee8-3acab3f9c072",
        "trusted": true
      },
      "outputs": [
        {
          "output_type": "execute_result",
          "data": {
            "text/plain": [
              "[5, 8, 14, 11, 7]"
            ]
          },
          "metadata": {},
          "execution_count": 15
        }
      ],
      "source": [
        "text_lens = [len(text.split()) for text in X]\n",
        "text_lens[:5]"
      ],
      "id": "21bdac12-3f54-464d-9c66-bab96b4bdeaa"
    },
    {
      "cell_type": "code",
      "execution_count": 16,
      "metadata": {
        "colab": {
          "base_uri": "https://localhost:8080/",
          "height": 482
        },
        "execution": {
          "iopub.execute_input": "2023-09-02T11:27:12.594399Z",
          "iopub.status.busy": "2023-09-02T11:27:12.594080Z",
          "iopub.status.idle": "2023-09-02T11:27:12.885163Z",
          "shell.execute_reply": "2023-09-02T11:27:12.884188Z",
          "shell.execute_reply.started": "2023-09-02T11:27:12.594370Z"
        },
        "id": "0c372d40-04f5-4516-a611-0310aff414d0",
        "outputId": "76874dda-f722-40ba-8836-c6b08d310608",
        "trusted": true
      },
      "outputs": [
        {
          "output_type": "execute_result",
          "data": {
            "text/plain": [
              "(array([159., 194., 197., 150.,  95.,  87.,  53.,  37.,  15.,   7.]),\n",
              " array([ 1. ,  4.1,  7.2, 10.3, 13.4, 16.5, 19.6, 22.7, 25.8, 28.9, 32. ]),\n",
              " <BarContainer object of 10 artists>)"
            ]
          },
          "metadata": {},
          "execution_count": 16
        },
        {
          "output_type": "display_data",
          "data": {
            "text/plain": [
              "<Figure size 640x480 with 1 Axes>"
            ],
            "image/png": "[encoded data removed]"
          },
          "metadata": {}
        }
      ],
      "source": [
        "plt.hist(text_lens)"
      ],
      "id": "0c372d40-04f5-4516-a611-0310aff414d0"
    },
    {
      "cell_type": "code",
      "execution_count": 17,
      "metadata": {
        "colab": {
          "base_uri": "https://localhost:8080/"
        },
        "execution": {
          "iopub.execute_input": "2023-09-02T11:27:12.887446Z",
          "iopub.status.busy": "2023-09-02T11:27:12.886522Z",
          "iopub.status.idle": "2023-09-02T11:27:12.894955Z",
          "shell.execute_reply": "2023-09-02T11:27:12.893872Z",
          "shell.execute_reply.started": "2023-09-02T11:27:12.887411Z"
        },
        "id": "69ae28b0-cc65-47f8-b2bd-299073e5f1c3",
        "outputId": "ecb1a97b-df52-41d8-8e74-d46380bf9a9b",
        "trusted": true
      },
      "outputs": [
        {
          "output_type": "execute_result",
          "data": {
            "text/plain": [
              "10"
            ]
          },
          "metadata": {},
          "execution_count": 17
        }
      ],
      "source": [
        "int(sum(text_lens)/len(text_lens)) # The average number of tokens"
      ],
      "id": "69ae28b0-cc65-47f8-b2bd-299073e5f1c3"
    },
    {
      "cell_type": "code",
      "execution_count": 18,
      "metadata": {
        "colab": {
          "base_uri": "https://localhost:8080/"
        },
        "execution": {
          "iopub.execute_input": "2023-09-02T11:27:12.897321Z",
          "iopub.status.busy": "2023-09-02T11:27:12.896804Z",
          "iopub.status.idle": "2023-09-02T11:27:12.908944Z",
          "shell.execute_reply": "2023-09-02T11:27:12.907556Z",
          "shell.execute_reply.started": "2023-09-02T11:27:12.897288Z"
        },
        "id": "2e1455b5-86c6-4d9d-a92f-d6f136c8b7f4",
        "outputId": "743a8b58-2c67-4d50-98e3-5996de29966d",
        "trusted": true
      },
      "outputs": [
        {
          "output_type": "execute_result",
          "data": {
            "text/plain": [
              "23.0"
            ]
          },
          "metadata": {},
          "execution_count": 18
        }
      ],
      "source": [
        "np.percentile(text_lens, 95)"
      ],
      "id": "2e1455b5-86c6-4d9d-a92f-d6f136c8b7f4"
    },
    {
      "cell_type": "markdown",
      "metadata": {
        "id": "ea54231c-cdbb-4865-ab52-35119f70ae26"
      },
      "source": [
        "## Setting up TextVectorization Layers"
      ],
      "id": "ea54231c-cdbb-4865-ab52-35119f70ae26"
    },
    {
      "cell_type": "code",
      "execution_count": 19,
      "metadata": {
        "execution": {
          "iopub.execute_input": "2023-09-02T11:27:12.911362Z",
          "iopub.status.busy": "2023-09-02T11:27:12.910375Z",
          "iopub.status.idle": "2023-09-02T11:27:16.133622Z",
          "shell.execute_reply": "2023-09-02T11:27:16.132590Z",
          "shell.execute_reply.started": "2023-09-02T11:27:12.911328Z"
        },
        "id": "05f162d6-ed1c-4581-905a-6da25c01d9c6",
        "trusted": true
      },
      "outputs": [],
      "source": [
        "from tensorflow.keras.layers import TextVectorization\n",
        "\n",
        "max_vocab = 20000\n",
        "seq_len = 25\n",
        "\n",
        "text_vectorizer = TextVectorization(\n",
        "    max_tokens=max_vocab,\n",
        "    output_sequence_length=seq_len,\n",
        "    output_mode='int'\n",
        ")\n",
        "\n",
        "text_vectorizer.adapt(X)"
      ],
      "id": "05f162d6-ed1c-4581-905a-6da25c01d9c6"
    },
    {
      "cell_type": "code",
      "execution_count": 20,
      "metadata": {
        "colab": {
          "base_uri": "https://localhost:8080/"
        },
        "execution": {
          "iopub.execute_input": "2023-09-02T11:27:16.136230Z",
          "iopub.status.busy": "2023-09-02T11:27:16.135532Z",
          "iopub.status.idle": "2023-09-02T11:27:16.244251Z",
          "shell.execute_reply": "2023-09-02T11:27:16.243206Z",
          "shell.execute_reply.started": "2023-09-02T11:27:16.136155Z"
        },
        "id": "24f391ba-43a2-4f49-9f1c-f3fb01bd201c",
        "outputId": "78a9bf76-08f7-4582-9d8b-0e0b9c763cc7",
        "trusted": true
      },
      "outputs": [
        {
          "output_type": "stream",
          "name": "stdout",
          "text": [
            "Original Tweet : \n",
            " This is the place where I first had pho and it was amazing!!\n",
            "Vectorized Tweet : \n",
            " [[  9   8   2  16 259   4 104  23 272   3  10   5  71   0   0   0   0   0\n",
            "    0   0   0   0   0   0   0]]\n",
            " Shape = (1, 25)\n"
          ]
        }
      ],
      "source": [
        "# visualize random setence without and with Text-Vectorization\n",
        "import random\n",
        "random_tweet = random.choice(X)\n",
        "print(f'Original Tweet : \\n {random_tweet}')\n",
        "text_vectorized_tweet = text_vectorizer([random_tweet])\n",
        "print(f'Vectorized Tweet : \\n {text_vectorized_tweet}\\n Shape = {text_vectorized_tweet.shape}')"
      ],
      "id": "24f391ba-43a2-4f49-9f1c-f3fb01bd201c"
    },
    {
      "cell_type": "code",
      "execution_count": 21,
      "metadata": {
        "colab": {
          "base_uri": "https://localhost:8080/"
        },
        "execution": {
          "iopub.execute_input": "2023-09-02T11:27:16.251298Z",
          "iopub.status.busy": "2023-09-02T11:27:16.248885Z",
          "iopub.status.idle": "2023-09-02T11:27:16.272984Z",
          "shell.execute_reply": "2023-09-02T11:27:16.272129Z",
          "shell.execute_reply.started": "2023-09-02T11:27:16.251262Z"
        },
        "id": "f8d1ac8b-5f15-42b4-b550-479d79d7dc2d",
        "outputId": "83c79ef4-7c75-45a2-bf8f-5bf200088627",
        "trusted": true
      },
      "outputs": [
        {
          "output_type": "stream",
          "name": "stdout",
          "text": [
            "Words in vocabulary : 2076\n",
            "Top 5 words : ['', '[UNK]', 'the', 'and', 'i']\n",
            "Bottom 5 words : ['1979', '17', '15lb', '15', '1199']\n"
          ]
        }
      ],
      "source": [
        "review_vocab = text_vectorizer.get_vocabulary()\n",
        "print(f'Words in vocabulary : {len(review_vocab)}')\n",
        "print(f'Top 5 words : {review_vocab[:5]}')\n",
        "print(f'Bottom 5 words : {review_vocab[-5:]}')"
      ],
      "id": "f8d1ac8b-5f15-42b4-b550-479d79d7dc2d"
    },
    {
      "cell_type": "code",
      "execution_count": 22,
      "metadata": {
        "colab": {
          "base_uri": "https://localhost:8080/"
        },
        "execution": {
          "iopub.execute_input": "2023-09-02T11:27:16.356475Z",
          "iopub.status.busy": "2023-09-02T11:27:16.355832Z",
          "iopub.status.idle": "2023-09-02T11:27:16.383181Z",
          "shell.execute_reply": "2023-09-02T11:27:16.382000Z",
          "shell.execute_reply.started": "2023-09-02T11:27:16.356440Z"
        },
        "id": "5e7f7b4f-e8bf-4611-a4c4-446d6056dc64",
        "outputId": "0bb6af8b-ee58-48a5-d30c-df2fd682169b",
        "trusted": true
      },
      "outputs": [
        {
          "output_type": "execute_result",
          "data": {
            "text/plain": [
              "<tf.Tensor: shape=(994, 25), dtype=int64, numpy=\n",
              "array([[  18,    8,  312, ...,    0,    0,    0],\n",
              "       [  61,    8,  119, ...,    0,    0,    0],\n",
              "       [ 180,    5,  215, ...,    0,    0,    0],\n",
              "       ...,\n",
              "       [   2,   12,    8, ...,    0,    0,    0],\n",
              "       [  24,   16,    7, ...,    0,    0,    0],\n",
              "       [  35,   27, 1641, ...,    0,    0,    0]])>"
            ]
          },
          "metadata": {},
          "execution_count": 22
        }
      ],
      "source": [
        "vectorized_X = text_vectorizer(X)\n",
        "vectorized_X"
      ],
      "id": "5e7f7b4f-e8bf-4611-a4c4-446d6056dc64"
    },
    {
      "cell_type": "markdown",
      "metadata": {
        "id": "b74d2ff9-1786-47fe-9f09-b16478728290"
      },
      "source": [
        "## Build faster **data input pipelines** using `tf.data`"
      ],
      "id": "b74d2ff9-1786-47fe-9f09-b16478728290"
    },
    {
      "cell_type": "code",
      "execution_count": 23,
      "metadata": {
        "execution": {
          "iopub.execute_input": "2023-09-02T11:27:16.388966Z",
          "iopub.status.busy": "2023-09-02T11:27:16.384554Z",
          "iopub.status.idle": "2023-09-02T11:27:16.413072Z",
          "shell.execute_reply": "2023-09-02T11:27:16.412036Z",
          "shell.execute_reply.started": "2023-09-02T11:27:16.388929Z"
        },
        "id": "cb7ee4fc-3f12-42a9-8876-4b7f788da48c",
        "trusted": true
      },
      "outputs": [],
      "source": [
        "data = tf.data.Dataset.from_tensor_slices((vectorized_X, y))\n",
        "data = data.cache().batch(32).prefetch(tf.data.AUTOTUNE)"
      ],
      "id": "cb7ee4fc-3f12-42a9-8876-4b7f788da48c"
    },
    {
      "cell_type": "code",
      "execution_count": 24,
      "metadata": {
        "colab": {
          "base_uri": "https://localhost:8080/"
        },
        "execution": {
          "iopub.execute_input": "2023-09-02T11:27:16.414899Z",
          "iopub.status.busy": "2023-09-02T11:27:16.414359Z",
          "iopub.status.idle": "2023-09-02T11:27:16.430427Z",
          "shell.execute_reply": "2023-09-02T11:27:16.429185Z",
          "shell.execute_reply.started": "2023-09-02T11:27:16.414866Z"
        },
        "id": "1bc7af56-70e6-4c61-9f5b-8e525cb9ad80",
        "outputId": "980ac6c0-37d2-4eb2-c31d-dcfe96e6b458",
        "trusted": true
      },
      "outputs": [
        {
          "output_type": "execute_result",
          "data": {
            "text/plain": [
              "<_PrefetchDataset element_spec=(TensorSpec(shape=(None, 25), dtype=tf.int64, name=None), TensorSpec(shape=(None,), dtype=tf.int64, name=None))>"
            ]
          },
          "metadata": {},
          "execution_count": 24
        }
      ],
      "source": [
        "data"
      ],
      "id": "1bc7af56-70e6-4c61-9f5b-8e525cb9ad80"
    },
    {
      "cell_type": "code",
      "execution_count": 25,
      "metadata": {
        "colab": {
          "base_uri": "https://localhost:8080/"
        },
        "execution": {
          "iopub.execute_input": "2023-09-02T11:27:16.434298Z",
          "iopub.status.busy": "2023-09-02T11:27:16.433947Z",
          "iopub.status.idle": "2023-09-02T11:27:16.461067Z",
          "shell.execute_reply": "2023-09-02T11:27:16.460182Z",
          "shell.execute_reply.started": "2023-09-02T11:27:16.434267Z"
        },
        "id": "aa0523a6-2f56-46bb-b903-508851043985",
        "outputId": "306bb736-d779-4f66-d4be-b2629ae54a2b",
        "trusted": true
      },
      "outputs": [
        {
          "output_type": "execute_result",
          "data": {
            "text/plain": [
              "((32, 25), (32,))"
            ]
          },
          "metadata": {},
          "execution_count": 25
        }
      ],
      "source": [
        "batch_X, batch_y = data.as_numpy_iterator().next()\n",
        "batch_X.shape, batch_y.shape"
      ],
      "id": "aa0523a6-2f56-46bb-b903-508851043985"
    },
    {
      "cell_type": "code",
      "execution_count": 26,
      "metadata": {
        "colab": {
          "base_uri": "https://localhost:8080/"
        },
        "execution": {
          "iopub.execute_input": "2023-09-02T11:27:16.465985Z",
          "iopub.status.busy": "2023-09-02T11:27:16.465328Z",
          "iopub.status.idle": "2023-09-02T11:27:16.484590Z",
          "shell.execute_reply": "2023-09-02T11:27:16.483662Z",
          "shell.execute_reply.started": "2023-09-02T11:27:16.465952Z"
        },
        "id": "9d210276-631c-49ba-988a-fc411bb2efc4",
        "outputId": "f04b8ac1-3d68-4296-c15a-0bd61ac37e72",
        "trusted": true
      },
      "outputs": [
        {
          "output_type": "execute_result",
          "data": {
            "text/plain": [
              "array([[  18,    8,  312,    3,   58,    0,    0,    0,    0,    0,    0,\n",
              "           0,    0,    0,    0,    0,    0,    0,    0,    0,    0,    0,\n",
              "           0,    0,    0],\n",
              "       [  61,    8,  119,  328,   31,   65,    6,  122,    0,    0,    0,\n",
              "           0,    0,    0,    0,    0,    0,    0,    0,    0,    0,    0,\n",
              "           0,    0,    0],\n",
              "       [ 180,    5,  215,   91,  573,   78, 1973,  379,    7,   26, 1289,\n",
              "          37,  282,  541,    0,    0,    0,    0,    0,    0,    0,    0,\n",
              "           0,    0,    0],\n",
              "       [   2, 1912,  409,  165,    5,  160,    3,    2,  355,   27,  598,\n",
              "           0,    0,    0,    0,    0,    0,    0,    0,    0,    0,    0,\n",
              "           0,    0,    0],\n",
              "       [  69,    3,    4,   43,  231,   26,   33,    0,    0,    0,    0,\n",
              "           0,    0,    0,    0,    0,    0,    0,    0,    0,    0,    0,\n",
              "           0,    0,    0],\n",
              "       [  17,   18,   20,  196,    3,  733,    7,  848,    0,    0,    0,\n",
              "           0,    0,    0,    0,    0,    0,    0,    0,    0,    0,    0,\n",
              "           0,    0,    0],\n",
              "       [   2,  861,   29,  196,    3,    2,   16,  389,    8,   93,  804,\n",
              "           0,    0,    0,    0,    0,    0,    0,    0,    0,    0,    0,\n",
              "           0,    0,    0],\n",
              "       [  85,  147,   16,    0,    0,    0,    0,    0,    0,    0,    0,\n",
              "           0,    0,    0,    0,    0,    0,    0,    0,    0,    0,    0,\n",
              "           0,    0,    0],\n",
              "       [  32,  158,   39,  293,   21,  148,   11,    2,   12,   34,    0,\n",
              "           0,    0,    0,    0,    0,    0,    0,    0,    0,    0,    0,\n",
              "           0,    0,    0],\n",
              "       [ 127,    6,  793,  831,   98,    6,  634, 1317,   25,    5, 1708,\n",
              "        2033, 1296,  963,  889,  151,  448,    0,    0,    0,    0,    0,\n",
              "           0,    0,    0],\n",
              "       [  24,  161,   58,    3,  331,   18,    0,    0,    0,    0,    0,\n",
              "           0,    0,    0,    0,    0,    0,    0,    0,    0,    0,    0,\n",
              "           0,    0,    0],\n",
              "       [   2, 1329,    5,   55,   47,   17,    3,   85,  386,   37,   25,\n",
              "           0,    0,    0,    0,    0,    0,    0,    0,    0,    0,    0,\n",
              "           0,    0,    0],\n",
              "       [   9,   16,    8,  147,   50,   32,  132,  367, 1487,    3,  520,\n",
              "         336,    2,  615,    0,    0,    0,    0,    0,    0,    0,    0,\n",
              "           0,    0,    0],\n",
              "       [ 443,  560,  781,    0,    0,    0,    0,    0,    0,    0,    0,\n",
              "           0,    0,    0,    0,    0,    0,    0,    0,    0,    0,    0,\n",
              "           0,    0,    0],\n",
              "       [ 201,    5,   17,  360,    0,    0,    0,    0,    0,    0,    0,\n",
              "           0,    0,    0,    0,    0,    0,    0,    0,    0,    0,    0,\n",
              "           0,    0,    0],\n",
              "       [   2,   18,    5,    6,  228,  506,    0,    0,    0,    0,    0,\n",
              "           0,    0,    0,    0,    0,    0,    0,    0,    0,    0,    0,\n",
              "           0,    0,    0],\n",
              "       [ 116,  118,   32, 1927,  422,    6, 1073,   50,   32,  158, 1257,\n",
              "         819,    6,  124,    4,   53,  976,    0,    0,    0,    0,    0,\n",
              "           0,    0,    0],\n",
              "       [   2,   12,    8,  106,   36,  679,   21, 1799,   73,    8,    7,\n",
              "         108,   13,   17,   37,   40,    0,    0,    0,    0,    0,    0,\n",
              "           0,    0,    0],\n",
              "       [   4,  109,   90,   49, 1944,   40,  194,   10,    8, 1792,    0,\n",
              "           0,    0,    0,    0,    0,    0,    0,    0,    0,    0,    0,\n",
              "           0,    0,    0],\n",
              "       [   4,   98,    7,  284,    2,  307,  125,   21,    6, 1712,  593,\n",
              "           0,    0,    0,    0,    0,    0,    0,    0,    0,    0,    0,\n",
              "           0,    0,    0],\n",
              "       [   4,  657,  236, 1933,    3,    4,   30,   70,   33,  191,  590,\n",
              "         211,    0,    0,    0,    0,    0,    0,    0,    0,    0,    0,\n",
              "           0,    0,    0],\n",
              "       [   2,  104,   41,    4,   52,   82,   34,    4,   23,   48,   71,\n",
              "          81,    4,  151,  263,  182,  116,  147,    2,  539,    5,    0,\n",
              "           0,    0,    0],\n",
              "       [1881,  161,  396,    3,  128,  873, 1053,  365, 1996,  124,    0,\n",
              "           0,    0,    0,    0,    0,    0,    0,    0,    0,    0,    0,\n",
              "           0,    0,    0],\n",
              "       [  50,   25,  840,   65, 1124,   60,    4,   54,   30,  759,    6,\n",
              "         348,   14,  208,   31,   36,    2,  126,  239,   11,    2,  434,\n",
              "         259,    9,  840],\n",
              "       [   2,   12,    5,   69,   42,  863,    5,  256,    3, 1303,    3,\n",
              "          19,   98,    6,   24,  252,    0,    0,    0,    0,    0,    0,\n",
              "           0,    0,    0],\n",
              "       [   4,  107,   12,  267,   30,  138,    3,  447,    3,  227,   27,\n",
              "         506,    0,    0,    0,    0,    0,    0,    0,    0,    0,    0,\n",
              "           0,    0,    0],\n",
              "       [  24,   12,    3,   24,   18,   15,    6,  196,    3,   58,  460,\n",
              "           0,    0,    0,    0,    0,    0,    0,    0,    0,    0,    0,\n",
              "           0,    0,    0],\n",
              "       [ 264, 1024,    7, 1751, 1038,   14,    2,  474,   36,   68,    7,\n",
              "         184,   40,  350,   14,   22,  984,    0,    0,    0,    0,    0,\n",
              "           0,    0,    0],\n",
              "       [   2,   84,    5,   20,  256,    0,    0,    0,    0,    0,    0,\n",
              "           0,    0,    0,    0,    0,    0,    0,    0,    0,    0,    0,\n",
              "           0,    0,    0],\n",
              "       [  28,   53,   39,   45,   50,   32,   29,  716,   14,   17,   12,\n",
              "           0,    0,    0,    0,    0,    0,    0,    0,    0,    0,    0,\n",
              "           0,    0,    0],\n",
              "       [ 145,   13,  294,   59,  274,   34,    0,    0,    0,    0,    0,\n",
              "           0,    0,    0,    0,    0,    0,    0,    0,    0,    0,    0,\n",
              "           0,    0,    0],\n",
              "       [  20,  337,    0,    0,    0,    0,    0,    0,    0,    0,    0,\n",
              "           0,    0,    0,    0,    0,    0,    0,    0,    0,    0,    0,\n",
              "           0,    0,    0]])"
            ]
          },
          "metadata": {},
          "execution_count": 26
        }
      ],
      "source": [
        "batch_X"
      ],
      "id": "9d210276-631c-49ba-988a-fc411bb2efc4"
    },
    {
      "cell_type": "code",
      "execution_count": 27,
      "metadata": {
        "colab": {
          "base_uri": "https://localhost:8080/"
        },
        "execution": {
          "iopub.execute_input": "2023-09-02T11:27:16.498502Z",
          "iopub.status.busy": "2023-09-02T11:27:16.496052Z",
          "iopub.status.idle": "2023-09-02T11:27:16.508987Z",
          "shell.execute_reply": "2023-09-02T11:27:16.507862Z",
          "shell.execute_reply.started": "2023-09-02T11:27:16.498466Z"
        },
        "id": "663ba2f7-7632-4b9f-8367-96a3b4d7c928",
        "outputId": "a1b08a2a-2c31-4625-9b08-df6b03f6cd82",
        "trusted": true
      },
      "outputs": [
        {
          "output_type": "execute_result",
          "data": {
            "text/plain": [
              "array([1, 1, 0, 0, 1, 1, 1, 1, 1, 0, 1, 1, 1, 0, 1, 0, 0, 0, 1, 1, 1, 1,\n",
              "       1, 0, 1, 0, 1, 1, 1, 0, 0, 0])"
            ]
          },
          "metadata": {},
          "execution_count": 27
        }
      ],
      "source": [
        "batch_y"
      ],
      "id": "663ba2f7-7632-4b9f-8367-96a3b4d7c928"
    },
    {
      "cell_type": "markdown",
      "metadata": {
        "id": "5dcd1cc6-ea94-4d6d-9af0-58f9dceba2d3"
      },
      "source": [
        "### Partioning the Data into Training and Testing Data"
      ],
      "id": "5dcd1cc6-ea94-4d6d-9af0-58f9dceba2d3"
    },
    {
      "cell_type": "code",
      "execution_count": 28,
      "metadata": {
        "colab": {
          "base_uri": "https://localhost:8080/"
        },
        "execution": {
          "iopub.execute_input": "2023-09-02T11:27:16.516009Z",
          "iopub.status.busy": "2023-09-02T11:27:16.513649Z",
          "iopub.status.idle": "2023-09-02T11:27:16.528384Z",
          "shell.execute_reply": "2023-09-02T11:27:16.527102Z",
          "shell.execute_reply.started": "2023-09-02T11:27:16.515974Z"
        },
        "id": "b4e49d71-6f27-4869-a97b-c9639cc178e3",
        "outputId": "f43c3983-9e2b-4da3-a7df-07dcfe3b1f81",
        "trusted": true
      },
      "outputs": [
        {
          "output_type": "execute_result",
          "data": {
            "text/plain": [
              "32"
            ]
          },
          "metadata": {},
          "execution_count": 28
        }
      ],
      "source": [
        "len(data)"
      ],
      "id": "b4e49d71-6f27-4869-a97b-c9639cc178e3"
    },
    {
      "cell_type": "code",
      "execution_count": 29,
      "metadata": {
        "execution": {
          "iopub.execute_input": "2023-09-02T11:27:16.535278Z",
          "iopub.status.busy": "2023-09-02T11:27:16.532962Z",
          "iopub.status.idle": "2023-09-02T11:27:16.553010Z",
          "shell.execute_reply": "2023-09-02T11:27:16.551989Z",
          "shell.execute_reply.started": "2023-09-02T11:27:16.535244Z"
        },
        "id": "a55a7450-b3e0-4ef6-87dc-c7b0bacaa945",
        "trusted": true
      },
      "outputs": [],
      "source": [
        "train_data = data.take(int(len(data)*0.9))\n",
        "test_data = data.skip(int(len(data)*0.9)).take(int(len(data)*0.1))"
      ],
      "id": "a55a7450-b3e0-4ef6-87dc-c7b0bacaa945"
    },
    {
      "cell_type": "code",
      "execution_count": 30,
      "metadata": {
        "colab": {
          "base_uri": "https://localhost:8080/"
        },
        "execution": {
          "iopub.execute_input": "2023-09-02T11:27:16.557109Z",
          "iopub.status.busy": "2023-09-02T11:27:16.556821Z",
          "iopub.status.idle": "2023-09-02T11:27:16.567518Z",
          "shell.execute_reply": "2023-09-02T11:27:16.566255Z",
          "shell.execute_reply.started": "2023-09-02T11:27:16.557084Z"
        },
        "id": "db7c2fb7-e264-403e-b039-d7eb875e02c5",
        "outputId": "c8150e57-d740-46ee-f442-6d522c800a70",
        "trusted": true
      },
      "outputs": [
        {
          "output_type": "execute_result",
          "data": {
            "text/plain": [
              "(28, 3)"
            ]
          },
          "metadata": {},
          "execution_count": 30
        }
      ],
      "source": [
        "len(train_data), len(test_data)"
      ],
      "id": "db7c2fb7-e264-403e-b039-d7eb875e02c5"
    },
    {
      "cell_type": "code",
      "execution_count": 31,
      "metadata": {
        "colab": {
          "base_uri": "https://localhost:8080/"
        },
        "execution": {
          "iopub.execute_input": "2023-09-02T11:27:16.569494Z",
          "iopub.status.busy": "2023-09-02T11:27:16.568677Z",
          "iopub.status.idle": "2023-09-02T11:27:16.577093Z",
          "shell.execute_reply": "2023-09-02T11:27:16.575937Z",
          "shell.execute_reply.started": "2023-09-02T11:27:16.569456Z"
        },
        "id": "4a254712-43d0-4ccc-bc0b-8c45ce15ffba",
        "outputId": "415327df-9eca-4da3-b594-590f60293463",
        "trusted": true
      },
      "outputs": [
        {
          "output_type": "execute_result",
          "data": {
            "text/plain": [
              "<_TakeDataset element_spec=(TensorSpec(shape=(None, 25), dtype=tf.int64, name=None), TensorSpec(shape=(None,), dtype=tf.int64, name=None))>"
            ]
          },
          "metadata": {},
          "execution_count": 31
        }
      ],
      "source": [
        "train_data"
      ],
      "id": "4a254712-43d0-4ccc-bc0b-8c45ce15ffba"
    },
    {
      "cell_type": "markdown",
      "metadata": {
        "id": "562366b2-4400-4103-9b56-1b015b98a93e"
      },
      "source": [
        "## Model Building"
      ],
      "id": "562366b2-4400-4103-9b56-1b015b98a93e"
    },
    {
      "cell_type": "code",
      "execution_count": 32,
      "metadata": {
        "execution": {
          "iopub.execute_input": "2023-09-02T11:27:16.579324Z",
          "iopub.status.busy": "2023-09-02T11:27:16.578637Z",
          "iopub.status.idle": "2023-09-02T11:27:16.585598Z",
          "shell.execute_reply": "2023-09-02T11:27:16.584421Z",
          "shell.execute_reply.started": "2023-09-02T11:27:16.579288Z"
        },
        "id": "ae2f85aa-bd7c-443e-af40-43841de086e0",
        "trusted": true
      },
      "outputs": [],
      "source": [
        "import tensorflow as tf\n",
        "from tensorflow import keras\n",
        "from keras.models import Sequential\n",
        "from keras.layers import Conv1D, MaxPooling1D, Flatten\n",
        "from keras.layers import Bidirectional, LSTM\n",
        "from keras.layers import Dense, BatchNormalization, Dropout"
      ],
      "id": "ae2f85aa-bd7c-443e-af40-43841de086e0"
    },
    {
      "cell_type": "code",
      "execution_count": 33,
      "metadata": {
        "execution": {
          "iopub.execute_input": "2023-09-02T11:27:16.587698Z",
          "iopub.status.busy": "2023-09-02T11:27:16.587251Z",
          "iopub.status.idle": "2023-09-02T11:27:16.597251Z",
          "shell.execute_reply": "2023-09-02T11:27:16.596203Z",
          "shell.execute_reply.started": "2023-09-02T11:27:16.587661Z"
        },
        "id": "7b3afc10-4f9c-428a-9c5a-af7cc339e3df",
        "trusted": true
      },
      "outputs": [],
      "source": [
        "import os\n",
        "# Create a function to implement a ModelCheckpoint callback with a specific filename\n",
        "def create_model_checkpoint(model_name):\n",
        "  return tf.keras.callbacks.ModelCheckpoint(filepath=f\"./model_experiments/{model_name}/\",\n",
        "                                            monitor='val_accuracy', # create filepath to model\n",
        "                                            verbose=0, # only output a limited amount of text\n",
        "                                            save_best_only=True) # save only the best model to file"
      ],
      "id": "7b3afc10-4f9c-428a-9c5a-af7cc339e3df"
    },
    {
      "cell_type": "markdown",
      "metadata": {
        "id": "0ac55df0-5cb9-4a6f-80b3-b8353f1d83be"
      },
      "source": [
        "## Bidirectional LSTM model"
      ],
      "id": "0ac55df0-5cb9-4a6f-80b3-b8353f1d83be"
    },
    {
      "cell_type": "code",
      "execution_count": 34,
      "metadata": {
        "execution": {
          "iopub.execute_input": "2023-09-02T11:27:16.599677Z",
          "iopub.status.busy": "2023-09-02T11:27:16.598954Z",
          "iopub.status.idle": "2023-09-02T11:27:17.166663Z",
          "shell.execute_reply": "2023-09-02T11:27:17.165654Z",
          "shell.execute_reply.started": "2023-09-02T11:27:16.599635Z"
        },
        "id": "b5ef3711-ab79-4b69-89fc-36c0878fabcf",
        "trusted": true
      },
      "outputs": [],
      "source": [
        "lstm_model = Sequential()\n",
        "lstm_model.add(tf.keras.layers.Embedding(\n",
        "    input_dim=len(review_vocab),\n",
        "    output_dim=128,\n",
        "    input_length=seq_len\n",
        "))\n",
        "lstm_model.add(Bidirectional(LSTM(32, activation='tanh', return_sequences=True)))\n",
        "lstm_model.add(Bidirectional(LSTM(16, activation='tanh')))\n",
        "lstm_model.add(Dense(32, activation='relu'))\n",
        "lstm_model.add(Dropout(0.5))\n",
        "lstm_model.add(Dense(1, activation='sigmoid'))"
      ],
      "id": "b5ef3711-ab79-4b69-89fc-36c0878fabcf"
    },
    {
      "cell_type": "code",
      "execution_count": 35,
      "metadata": {
        "colab": {
          "base_uri": "https://localhost:8080/"
        },
        "execution": {
          "iopub.execute_input": "2023-09-02T11:27:17.168290Z",
          "iopub.status.busy": "2023-09-02T11:27:17.167920Z",
          "iopub.status.idle": "2023-09-02T11:27:17.190919Z",
          "shell.execute_reply": "2023-09-02T11:27:17.190131Z",
          "shell.execute_reply.started": "2023-09-02T11:27:17.168260Z"
        },
        "id": "eed081ec-9877-4e45-af45-208770a6316d",
        "outputId": "8bc788f2-22ba-48a4-f3c5-856b75a70809",
        "trusted": true
      },
      "outputs": [
        {
          "output_type": "stream",
          "name": "stdout",
          "text": [
            "Model: \"sequential\"\n",
            "_________________________________________________________________\n",
            " Layer (type)                Output Shape              Param #   \n",
            "=================================================================\n",
            " embedding (Embedding)       (None, 25, 128)           265728    \n",
            "                                                                 \n",
            " bidirectional (Bidirection  (None, 25, 64)            41216     \n",
            " al)                                                             \n",
            "                                                                 \n",
            " bidirectional_1 (Bidirecti  (None, 32)                10368     \n",
            " onal)                                                           \n",
            "                                                                 \n",
            " dense (Dense)               (None, 32)                1056      \n",
            "                                                                 \n",
            " dropout (Dropout)           (None, 32)                0         \n",
            "                                                                 \n",
            " dense_1 (Dense)             (None, 1)                 33        \n",
            "                                                                 \n",
            "=================================================================\n",
            "Total params: 318401 (1.21 MB)\n",
            "Trainable params: 318401 (1.21 MB)\n",
            "Non-trainable params: 0 (0.00 Byte)\n",
            "_________________________________________________________________\n"
          ]
        }
      ],
      "source": [
        "lstm_model.summary()"
      ],
      "id": "eed081ec-9877-4e45-af45-208770a6316d"
    },
    {
      "cell_type": "code",
      "execution_count": 36,
      "metadata": {
        "execution": {
          "iopub.execute_input": "2023-09-02T11:27:17.192260Z",
          "iopub.status.busy": "2023-09-02T11:27:17.191894Z",
          "iopub.status.idle": "2023-09-02T11:27:17.218729Z",
          "shell.execute_reply": "2023-09-02T11:27:17.217797Z",
          "shell.execute_reply.started": "2023-09-02T11:27:17.192228Z"
        },
        "id": "52f7378a-a0b7-4f3a-b8ec-f2fd8baf09f6",
        "trusted": true
      },
      "outputs": [],
      "source": [
        "lstm_model.compile(\n",
        "    loss=tf.keras.losses.BinaryCrossentropy(),\n",
        "    optimizer=tf.keras.optimizers.Adam(),\n",
        "    metrics=['accuracy']\n",
        ")"
      ],
      "id": "52f7378a-a0b7-4f3a-b8ec-f2fd8baf09f6"
    },
    {
      "cell_type": "code",
      "execution_count": 37,
      "metadata": {
        "colab": {
          "base_uri": "https://localhost:8080/"
        },
        "execution": {
          "iopub.execute_input": "2023-09-02T11:27:17.220887Z",
          "iopub.status.busy": "2023-09-02T11:27:17.219972Z",
          "iopub.status.idle": "2023-09-02T11:28:30.761208Z",
          "shell.execute_reply": "2023-09-02T11:28:30.760138Z",
          "shell.execute_reply.started": "2023-09-02T11:27:17.220854Z"
        },
        "id": "ca6a9fbf-b895-4989-80f1-88676693ee67",
        "outputId": "caba868f-78b7-4068-c3d5-bca9d4d48760",
        "trusted": true
      },
      "outputs": [
        {
          "output_type": "stream",
          "name": "stdout",
          "text": [
            "Epoch 1/20\n",
            "28/28 [==============================] - 38s 924ms/step - loss: 0.6934 - accuracy: 0.4821 - val_loss: 0.6903 - val_accuracy: 0.5000\n",
            "Epoch 2/20\n",
            "28/28 [==============================] - 20s 751ms/step - loss: 0.6738 - accuracy: 0.5703 - val_loss: 0.6379 - val_accuracy: 0.7396\n",
            "Epoch 3/20\n",
            "28/28 [==============================] - 20s 733ms/step - loss: 0.4654 - accuracy: 0.8404 - val_loss: 0.4503 - val_accuracy: 0.8125\n",
            "Epoch 4/20\n",
            "28/28 [==============================] - 20s 741ms/step - loss: 0.2189 - accuracy: 0.9375 - val_loss: 0.4366 - val_accuracy: 0.8438\n",
            "Epoch 5/20\n",
            "28/28 [==============================] - 0s 12ms/step - loss: 0.0879 - accuracy: 0.9866 - val_loss: 0.6155 - val_accuracy: 0.8438\n",
            "Epoch 6/20\n",
            "28/28 [==============================] - 0s 11ms/step - loss: 0.0403 - accuracy: 0.9955 - val_loss: 0.7484 - val_accuracy: 0.8438\n",
            "Epoch 7/20\n",
            "28/28 [==============================] - 20s 739ms/step - loss: 0.0379 - accuracy: 0.9933 - val_loss: 0.7293 - val_accuracy: 0.8542\n",
            "Epoch 8/20\n",
            "28/28 [==============================] - 0s 12ms/step - loss: 0.0587 - accuracy: 0.9866 - val_loss: 0.8668 - val_accuracy: 0.8229\n",
            "Epoch 9/20\n",
            "28/28 [==============================] - 0s 12ms/step - loss: 0.0301 - accuracy: 0.9933 - val_loss: 0.8250 - val_accuracy: 0.8333\n",
            "Epoch 10/20\n",
            "28/28 [==============================] - 0s 11ms/step - loss: 0.0240 - accuracy: 0.9944 - val_loss: 0.9046 - val_accuracy: 0.8229\n",
            "Epoch 11/20\n",
            "28/28 [==============================] - 0s 12ms/step - loss: 0.0160 - accuracy: 0.9978 - val_loss: 1.0868 - val_accuracy: 0.8229\n",
            "Epoch 12/20\n",
            "28/28 [==============================] - 0s 12ms/step - loss: 0.0132 - accuracy: 0.9989 - val_loss: 1.1406 - val_accuracy: 0.8333\n",
            "Epoch 13/20\n",
            "28/28 [==============================] - 0s 12ms/step - loss: 0.0107 - accuracy: 0.9989 - val_loss: 1.1861 - val_accuracy: 0.8229\n",
            "Epoch 14/20\n",
            "28/28 [==============================] - 0s 12ms/step - loss: 0.0186 - accuracy: 0.9989 - val_loss: 1.2110 - val_accuracy: 0.8229\n",
            "Epoch 15/20\n",
            "28/28 [==============================] - 0s 11ms/step - loss: 0.0129 - accuracy: 0.9978 - val_loss: 1.2047 - val_accuracy: 0.8229\n",
            "Epoch 16/20\n",
            "28/28 [==============================] - 0s 12ms/step - loss: 0.0228 - accuracy: 0.9978 - val_loss: 1.3966 - val_accuracy: 0.8021\n",
            "Epoch 17/20\n",
            "28/28 [==============================] - 0s 12ms/step - loss: 0.0095 - accuracy: 0.9989 - val_loss: 1.1788 - val_accuracy: 0.8125\n",
            "Epoch 18/20\n",
            "28/28 [==============================] - 22s 799ms/step - loss: 0.0199 - accuracy: 0.9967 - val_loss: 1.0509 - val_accuracy: 0.8646\n",
            "Epoch 19/20\n",
            "28/28 [==============================] - 0s 12ms/step - loss: 0.0115 - accuracy: 0.9989 - val_loss: 1.0482 - val_accuracy: 0.8333\n",
            "Epoch 20/20\n",
            "28/28 [==============================] - 0s 11ms/step - loss: 0.0111 - accuracy: 0.9978 - val_loss: 1.1745 - val_accuracy: 0.8125\n"
          ]
        }
      ],
      "source": [
        "history_lstm = lstm_model.fit(\n",
        "    train_data,\n",
        "    epochs=20,\n",
        "    validation_data=test_data,\n",
        "    callbacks=[create_model_checkpoint('Bi_lstm_model')]\n",
        ")"
      ],
      "id": "ca6a9fbf-b895-4989-80f1-88676693ee67"
    },
    {
      "cell_type": "markdown",
      "source": [
        "## Bidirectional GRU layer"
      ],
      "metadata": {
        "id": "LC-iOol5TZC1"
      },
      "id": "LC-iOol5TZC1"
    },
    {
      "cell_type": "code",
      "source": [
        "gru_model = Sequential()\n",
        "gru_model.add(tf.keras.layers.Embedding(\n",
        "    input_dim=len(review_vocab),\n",
        "    output_dim=128,\n",
        "    input_length=seq_len\n",
        "))\n",
        "gru_model.add(Bidirectional(tf.keras.layers.GRU(32, activation='tanh', return_sequences=True)))\n",
        "gru_model.add(Bidirectional(tf.keras.layers.GRU(16, activation='tanh')))\n",
        "gru_model.add(Dense(32, activation='relu'))\n",
        "gru_model.add(Dropout(0.5))\n",
        "gru_model.add(Dense(1, activation='sigmoid'))"
      ],
      "metadata": {
        "id": "yJZGMO5wTXQa"
      },
      "id": "yJZGMO5wTXQa",
      "execution_count": 38,
      "outputs": []
    },
    {
      "cell_type": "code",
      "source": [
        "gru_model.compile(\n",
        "    loss=tf.keras.losses.BinaryCrossentropy(),\n",
        "    optimizer=tf.keras.optimizers.Adam(),\n",
        "    metrics=['accuracy']\n",
        ")"
      ],
      "metadata": {
        "id": "wZJMIGJBTkh7"
      },
      "id": "wZJMIGJBTkh7",
      "execution_count": 40,
      "outputs": []
    },
    {
      "cell_type": "code",
      "source": [
        "gru_model.summary()"
      ],
      "metadata": {
        "colab": {
          "base_uri": "https://localhost:8080/"
        },
        "id": "AE8LhrWWTxeT",
        "outputId": "3fb2a983-0fe9-4756-e1ba-3a45e21a0e21"
      },
      "id": "AE8LhrWWTxeT",
      "execution_count": 41,
      "outputs": [
        {
          "output_type": "stream",
          "name": "stdout",
          "text": [
            "Model: \"sequential_1\"\n",
            "_________________________________________________________________\n",
            " Layer (type)                Output Shape              Param #   \n",
            "=================================================================\n",
            " embedding_1 (Embedding)     (None, 25, 128)           265728    \n",
            "                                                                 \n",
            " bidirectional_2 (Bidirecti  (None, 25, 64)            31104     \n",
            " onal)                                                           \n",
            "                                                                 \n",
            " bidirectional_3 (Bidirecti  (None, 32)                7872      \n",
            " onal)                                                           \n",
            "                                                                 \n",
            " dense_2 (Dense)             (None, 32)                1056      \n",
            "                                                                 \n",
            " dropout_1 (Dropout)         (None, 32)                0         \n",
            "                                                                 \n",
            " dense_3 (Dense)             (None, 1)                 33        \n",
            "                                                                 \n",
            "=================================================================\n",
            "Total params: 305793 (1.17 MB)\n",
            "Trainable params: 305793 (1.17 MB)\n",
            "Non-trainable params: 0 (0.00 Byte)\n",
            "_________________________________________________________________\n"
          ]
        }
      ]
    },
    {
      "cell_type": "code",
      "source": [
        "history_gru = gru_model.fit(\n",
        "    train_data,\n",
        "    epochs=20,\n",
        "    validation_data=test_data,\n",
        "    callbacks=[create_model_checkpoint('Gru_model')]\n",
        ")"
      ],
      "metadata": {
        "colab": {
          "base_uri": "https://localhost:8080/"
        },
        "id": "qXSJ5B32TxgK",
        "outputId": "618baf21-054e-43ff-ebdb-8aaaa3ba984e"
      },
      "id": "qXSJ5B32TxgK",
      "execution_count": 42,
      "outputs": [
        {
          "output_type": "stream",
          "name": "stdout",
          "text": [
            "Epoch 1/20\n",
            "28/28 [==============================] - 32s 813ms/step - loss: 0.6880 - accuracy: 0.5312 - val_loss: 0.6729 - val_accuracy: 0.6667\n",
            "Epoch 2/20\n",
            "28/28 [==============================] - 17s 637ms/step - loss: 0.5865 - accuracy: 0.7455 - val_loss: 0.5120 - val_accuracy: 0.7604\n",
            "Epoch 3/20\n",
            "28/28 [==============================] - 18s 662ms/step - loss: 0.2666 - accuracy: 0.9096 - val_loss: 0.5146 - val_accuracy: 0.8229\n",
            "Epoch 4/20\n",
            "28/28 [==============================] - 0s 11ms/step - loss: 0.0845 - accuracy: 0.9777 - val_loss: 0.6669 - val_accuracy: 0.8229\n",
            "Epoch 5/20\n",
            "28/28 [==============================] - 0s 11ms/step - loss: 0.0708 - accuracy: 0.9777 - val_loss: 0.7370 - val_accuracy: 0.8021\n",
            "Epoch 6/20\n",
            "28/28 [==============================] - 0s 11ms/step - loss: 0.0229 - accuracy: 0.9955 - val_loss: 0.8102 - val_accuracy: 0.8125\n",
            "Epoch 7/20\n",
            "28/28 [==============================] - 0s 11ms/step - loss: 0.0153 - accuracy: 0.9967 - val_loss: 0.9394 - val_accuracy: 0.8021\n",
            "Epoch 8/20\n",
            "28/28 [==============================] - 0s 11ms/step - loss: 0.0197 - accuracy: 0.9967 - val_loss: 0.9916 - val_accuracy: 0.8021\n",
            "Epoch 9/20\n",
            "28/28 [==============================] - 0s 11ms/step - loss: 0.0270 - accuracy: 0.9944 - val_loss: 1.0537 - val_accuracy: 0.7812\n",
            "Epoch 10/20\n",
            "28/28 [==============================] - 0s 12ms/step - loss: 0.0095 - accuracy: 0.9978 - val_loss: 1.0609 - val_accuracy: 0.7917\n",
            "Epoch 11/20\n",
            "28/28 [==============================] - 0s 11ms/step - loss: 0.0064 - accuracy: 0.9978 - val_loss: 1.0617 - val_accuracy: 0.7917\n",
            "Epoch 12/20\n",
            "28/28 [==============================] - 0s 11ms/step - loss: 0.0162 - accuracy: 0.9967 - val_loss: 1.1645 - val_accuracy: 0.8021\n",
            "Epoch 13/20\n",
            "28/28 [==============================] - 0s 11ms/step - loss: 0.0071 - accuracy: 0.9978 - val_loss: 1.0745 - val_accuracy: 0.7917\n",
            "Epoch 14/20\n",
            "28/28 [==============================] - 0s 11ms/step - loss: 0.0087 - accuracy: 0.9978 - val_loss: 1.1314 - val_accuracy: 0.8125\n",
            "Epoch 15/20\n",
            "28/28 [==============================] - 0s 11ms/step - loss: 0.0146 - accuracy: 0.9978 - val_loss: 1.2199 - val_accuracy: 0.7812\n",
            "Epoch 16/20\n",
            "28/28 [==============================] - 0s 11ms/step - loss: 0.0060 - accuracy: 0.9978 - val_loss: 1.1873 - val_accuracy: 0.7812\n",
            "Epoch 17/20\n",
            "28/28 [==============================] - 0s 11ms/step - loss: 0.0049 - accuracy: 0.9978 - val_loss: 1.2254 - val_accuracy: 0.7917\n",
            "Epoch 18/20\n",
            "28/28 [==============================] - 0s 11ms/step - loss: 0.0031 - accuracy: 1.0000 - val_loss: 1.2120 - val_accuracy: 0.7812\n",
            "Epoch 19/20\n",
            "28/28 [==============================] - 0s 13ms/step - loss: 0.0054 - accuracy: 0.9978 - val_loss: 1.3452 - val_accuracy: 0.7812\n",
            "Epoch 20/20\n",
            "28/28 [==============================] - 0s 17ms/step - loss: 0.0073 - accuracy: 0.9989 - val_loss: 1.2756 - val_accuracy: 0.7812\n"
          ]
        }
      ]
    },
    {
      "cell_type": "markdown",
      "metadata": {
        "id": "df55b650-6347-402c-824a-64e45875036d"
      },
      "source": [
        "## Evaluating all Models"
      ],
      "id": "df55b650-6347-402c-824a-64e45875036d"
    },
    {
      "cell_type": "code",
      "execution_count": 43,
      "metadata": {
        "colab": {
          "base_uri": "https://localhost:8080/"
        },
        "execution": {
          "iopub.execute_input": "2023-09-02T11:28:49.802080Z",
          "iopub.status.busy": "2023-09-02T11:28:49.801707Z",
          "iopub.status.idle": "2023-09-02T11:28:49.841108Z",
          "shell.execute_reply": "2023-09-02T11:28:49.840035Z",
          "shell.execute_reply.started": "2023-09-02T11:28:49.802046Z"
        },
        "id": "8caa8f43-663a-4341-8659-4253d45401f7",
        "outputId": "7d157b1d-a3f0-4b7c-ea27-d7b67edde166",
        "trusted": true
      },
      "outputs": [
        {
          "output_type": "stream",
          "name": "stdout",
          "text": [
            "3/3 [==============================] - 0s 7ms/step - loss: 1.1745 - accuracy: 0.8125\n"
          ]
        },
        {
          "output_type": "execute_result",
          "data": {
            "text/plain": [
              "[1.1744738817214966, 0.8125]"
            ]
          },
          "metadata": {},
          "execution_count": 43
        }
      ],
      "source": [
        "lstm_model.evaluate(test_data)"
      ],
      "id": "8caa8f43-663a-4341-8659-4253d45401f7"
    },
    {
      "cell_type": "code",
      "execution_count": 44,
      "metadata": {
        "colab": {
          "base_uri": "https://localhost:8080/"
        },
        "execution": {
          "iopub.execute_input": "2023-09-02T11:30:23.243944Z",
          "iopub.status.busy": "2023-09-02T11:30:23.243489Z",
          "iopub.status.idle": "2023-09-02T11:30:29.167469Z",
          "shell.execute_reply": "2023-09-02T11:30:29.166528Z",
          "shell.execute_reply.started": "2023-09-02T11:30:23.243909Z"
        },
        "id": "HmlOK3B3kl-O",
        "outputId": "ec6c2306-08d3-40df-d64c-36744e2c5b0f",
        "trusted": true
      },
      "outputs": [
        {
          "output_type": "stream",
          "name": "stdout",
          "text": [
            "3/3 [==============================] - 2s 10ms/step - loss: 1.0509 - accuracy: 0.8646\n"
          ]
        },
        {
          "output_type": "execute_result",
          "data": {
            "text/plain": [
              "[1.0509296655654907, 0.8645833134651184]"
            ]
          },
          "metadata": {},
          "execution_count": 44
        }
      ],
      "source": [
        "lstm_model = tf.keras.models.load_model('/content/model_experiments/Bi_lstm_model/')\n",
        "lstm_model.evaluate(test_data)"
      ],
      "id": "HmlOK3B3kl-O"
    },
    {
      "cell_type": "code",
      "execution_count": 45,
      "metadata": {
        "colab": {
          "base_uri": "https://localhost:8080/",
          "height": 447
        },
        "execution": {
          "iopub.execute_input": "2023-09-02T11:30:42.841234Z",
          "iopub.status.busy": "2023-09-02T11:30:42.840848Z",
          "iopub.status.idle": "2023-09-02T11:30:43.195967Z",
          "shell.execute_reply": "2023-09-02T11:30:43.195020Z",
          "shell.execute_reply.started": "2023-09-02T11:30:42.841204Z"
        },
        "id": "6d32f8c1-9a2d-4387-9ac1-039d3be538e9",
        "outputId": "5feb5ff3-802e-4866-8485-df8d44f92429",
        "trusted": true
      },
      "outputs": [
        {
          "output_type": "execute_result",
          "data": {
            "text/plain": [
              "<Axes: >"
            ]
          },
          "metadata": {},
          "execution_count": 45
        },
        {
          "output_type": "display_data",
          "data": {
            "text/plain": [
              "<Figure size 640x480 with 1 Axes>"
            ],
            "image/png": "[encoded data removed]"
          },
          "metadata": {}
        }
      ],
      "source": [
        "pd.DataFrame(history_lstm.history).plot()"
      ],
      "id": "6d32f8c1-9a2d-4387-9ac1-039d3be538e9"
    },
    {
      "cell_type": "code",
      "execution_count": 46,
      "metadata": {
        "execution": {
          "iopub.execute_input": "2023-09-02T11:30:46.906713Z",
          "iopub.status.busy": "2023-09-02T11:30:46.906329Z",
          "iopub.status.idle": "2023-09-02T11:30:46.912484Z",
          "shell.execute_reply": "2023-09-02T11:30:46.911403Z",
          "shell.execute_reply.started": "2023-09-02T11:30:46.906682Z"
        },
        "id": "8d90efd9-89ee-4660-b38b-af90b80e7242",
        "trusted": true
      },
      "outputs": [],
      "source": [
        "test_labels = df[-98:-2]['Liked'].to_numpy()"
      ],
      "id": "8d90efd9-89ee-4660-b38b-af90b80e7242"
    },
    {
      "cell_type": "code",
      "execution_count": 47,
      "metadata": {
        "colab": {
          "base_uri": "https://localhost:8080/"
        },
        "execution": {
          "iopub.execute_input": "2023-09-02T11:30:47.665624Z",
          "iopub.status.busy": "2023-09-02T11:30:47.664986Z",
          "iopub.status.idle": "2023-09-02T11:30:48.769922Z",
          "shell.execute_reply": "2023-09-02T11:30:48.768915Z",
          "shell.execute_reply.started": "2023-09-02T11:30:47.665591Z"
        },
        "id": "0b95df67-518a-4af5-a0c7-ff88c49b3581",
        "outputId": "f2236b6a-71b1-4dd6-9f08-f930b514f15e",
        "trusted": true
      },
      "outputs": [
        {
          "output_type": "stream",
          "name": "stdout",
          "text": [
            "3/3 [==============================] - 1s 6ms/step\n"
          ]
        }
      ],
      "source": [
        "lstm_y_preds = tf.round(lstm_model.predict(test_data))"
      ],
      "id": "0b95df67-518a-4af5-a0c7-ff88c49b3581"
    },
    {
      "cell_type": "code",
      "execution_count": 48,
      "metadata": {
        "execution": {
          "iopub.execute_input": "2023-09-02T11:30:48.777465Z",
          "iopub.status.busy": "2023-09-02T11:30:48.775201Z",
          "iopub.status.idle": "2023-09-02T11:30:48.950632Z",
          "shell.execute_reply": "2023-09-02T11:30:48.949575Z",
          "shell.execute_reply.started": "2023-09-02T11:30:48.777428Z"
        },
        "id": "2d45bcfc-7b0d-4b62-b242-0e358ca2552b",
        "trusted": true
      },
      "outputs": [],
      "source": [
        "from sklearn.metrics import accuracy_score, precision_recall_fscore_support\n",
        "\n",
        "def calculate_results(y_true, y_pred):\n",
        "  \"\"\"\n",
        "  Calculates model accuracy, precision, recall and f1 score of a binary classification model.\n",
        "\n",
        "  Args:\n",
        "  -----\n",
        "  y_true = true labels in the form of a 1D array\n",
        "  y_pred = predicted labels in the form of a 1D array\n",
        "\n",
        "  Returns a dictionary of accuracy, precision, recall, f1-score.\n",
        "  \"\"\"\n",
        "  # Calculate model accuracy\n",
        "  model_accuracy = accuracy_score(y_true, y_pred) * 100\n",
        "  # Calculate model precision, recall and f1 score using \"weighted\" average\n",
        "  model_precision, model_recall, model_f1, _ = precision_recall_fscore_support(y_true, y_pred, average=\"weighted\")\n",
        "  model_results = {\"accuracy\": model_accuracy,\n",
        "                  \"precision\": model_precision,\n",
        "                  \"recall\": model_recall,\n",
        "                  \"f1\": model_f1}\n",
        "  return model_results"
      ],
      "id": "2d45bcfc-7b0d-4b62-b242-0e358ca2552b"
    },
    {
      "cell_type": "code",
      "execution_count": 49,
      "metadata": {
        "colab": {
          "base_uri": "https://localhost:8080/"
        },
        "execution": {
          "iopub.execute_input": "2023-09-02T11:30:48.952319Z",
          "iopub.status.busy": "2023-09-02T11:30:48.951952Z",
          "iopub.status.idle": "2023-09-02T11:30:48.967426Z",
          "shell.execute_reply": "2023-09-02T11:30:48.966495Z",
          "shell.execute_reply.started": "2023-09-02T11:30:48.952286Z"
        },
        "id": "15c09cc0-319f-46c1-bfbb-f60000909122",
        "outputId": "5bcb96bf-31ac-4908-c322-7b137b7fcc31",
        "trusted": true
      },
      "outputs": [
        {
          "output_type": "execute_result",
          "data": {
            "text/plain": [
              "{'accuracy': 86.45833333333334,\n",
              " 'precision': 0.864741641337386,\n",
              " 'recall': 0.8645833333333334,\n",
              " 'f1': 0.8645686380900705}"
            ]
          },
          "metadata": {},
          "execution_count": 49
        }
      ],
      "source": [
        "calculate_results(test_labels, tf.squeeze(lstm_y_preds))"
      ],
      "id": "15c09cc0-319f-46c1-bfbb-f60000909122"
    },
    {
      "cell_type": "markdown",
      "metadata": {
        "id": "c8562921-a372-4056-83a1-7278e87090b8"
      },
      "source": [
        "## Prediction on Reviews from the wild"
      ],
      "id": "c8562921-a372-4056-83a1-7278e87090b8"
    },
    {
      "cell_type": "code",
      "execution_count": 50,
      "metadata": {
        "execution": {
          "iopub.execute_input": "2023-09-02T11:35:18.546762Z",
          "iopub.status.busy": "2023-09-02T11:35:18.546373Z",
          "iopub.status.idle": "2023-09-02T11:35:18.553148Z",
          "shell.execute_reply": "2023-09-02T11:35:18.551837Z",
          "shell.execute_reply.started": "2023-09-02T11:35:18.546730Z"
        },
        "id": "25e6578b-6177-4f99-a08c-2a088191b90f",
        "trusted": true
      },
      "outputs": [],
      "source": [
        "classes = ['Negative Review', 'Positive Review']\n",
        "def make_prediction(review):\n",
        "  input_tensor = text_vectorizer([review])\n",
        "  lstm_y_probs = lstm_model.predict(input_tensor)\n",
        "  print(f'Input Sentence : \\n{review}')\n",
        "  print(f'Bi-LSTM Model Prediction : {classes[int(tf.squeeze(tf.round(lstm_y_probs)))]}')"
      ],
      "id": "25e6578b-6177-4f99-a08c-2a088191b90f"
    },
    {
      "cell_type": "code",
      "execution_count": 51,
      "metadata": {
        "colab": {
          "base_uri": "https://localhost:8080/"
        },
        "execution": {
          "iopub.execute_input": "2023-09-02T11:35:18.846629Z",
          "iopub.status.busy": "2023-09-02T11:35:18.845783Z",
          "iopub.status.idle": "2023-09-02T11:35:18.982857Z",
          "shell.execute_reply": "2023-09-02T11:35:18.981833Z",
          "shell.execute_reply.started": "2023-09-02T11:35:18.846590Z"
        },
        "id": "22b8d441-ad49-4c4f-8fb6-150e58be4820",
        "outputId": "cfa132bf-653e-4f04-a261-82ea4099547c",
        "trusted": true
      },
      "outputs": [
        {
          "output_type": "stream",
          "name": "stdout",
          "text": [
            "1/1 [==============================] - 2s 2s/step\n",
            "Input Sentence : \n",
            "['The Food was good']\n",
            "Bi-LSTM Model Prediction : Positive Review\n"
          ]
        }
      ],
      "source": [
        "make_prediction(['The Food was good'])"
      ],
      "id": "22b8d441-ad49-4c4f-8fb6-150e58be4820"
    },
    {
      "cell_type": "code",
      "execution_count": 52,
      "metadata": {
        "colab": {
          "base_uri": "https://localhost:8080/"
        },
        "execution": {
          "iopub.execute_input": "2023-09-02T11:35:22.430755Z",
          "iopub.status.busy": "2023-09-02T11:35:22.430384Z",
          "iopub.status.idle": "2023-09-02T11:35:22.574637Z",
          "shell.execute_reply": "2023-09-02T11:35:22.573510Z",
          "shell.execute_reply.started": "2023-09-02T11:35:22.430725Z"
        },
        "id": "20f91038-faf4-4c6e-b49a-aab573dcc841",
        "outputId": "71c22427-007e-4844-fc1a-482fe0e6f0c3",
        "trusted": true
      },
      "outputs": [
        {
          "output_type": "stream",
          "name": "stdout",
          "text": [
            "1/1 [==============================] - 0s 22ms/step\n",
            "Input Sentence : \n",
            "The Food was not good, the curd was very salty and also the service was very late\n",
            "Bi-LSTM Model Prediction : Positive Review\n"
          ]
        }
      ],
      "source": [
        "make_prediction('The Food was not good, the curd was very salty and also the service was very late')"
      ],
      "id": "20f91038-faf4-4c6e-b49a-aab573dcc841"
    },
    {
      "cell_type": "code",
      "execution_count": 53,
      "metadata": {
        "execution": {
          "iopub.execute_input": "2023-09-02T11:35:28.683277Z",
          "iopub.status.busy": "2023-09-02T11:35:28.682865Z",
          "iopub.status.idle": "2023-09-02T11:35:28.813702Z",
          "shell.execute_reply": "2023-09-02T11:35:28.812787Z",
          "shell.execute_reply.started": "2023-09-02T11:35:28.683244Z"
        },
        "trusted": true,
        "colab": {
          "base_uri": "https://localhost:8080/"
        },
        "id": "LqhWUtljN4vJ",
        "outputId": "55f6f697-3951-4f95-af57-647df4af2ddf"
      },
      "outputs": [
        {
          "output_type": "stream",
          "name": "stdout",
          "text": [
            "1/1 [==============================] - 0s 44ms/step\n",
            "Input Sentence : \n",
            "The Food was very disgusting\n",
            "Bi-LSTM Model Prediction : Negative Review\n"
          ]
        }
      ],
      "source": [
        "make_prediction('The Food was very disgusting')"
      ],
      "id": "LqhWUtljN4vJ"
    },
    {
      "cell_type": "code",
      "execution_count": 54,
      "metadata": {
        "execution": {
          "iopub.execute_input": "2023-09-02T11:35:30.395221Z",
          "iopub.status.busy": "2023-09-02T11:35:30.394826Z",
          "iopub.status.idle": "2023-09-02T11:35:30.536743Z",
          "shell.execute_reply": "2023-09-02T11:35:30.535791Z",
          "shell.execute_reply.started": "2023-09-02T11:35:30.395190Z"
        },
        "trusted": true,
        "colab": {
          "base_uri": "https://localhost:8080/"
        },
        "id": "4JAMqMCRN4vK",
        "outputId": "ceb7d2ba-01b4-4926-9002-64648755f5da"
      },
      "outputs": [
        {
          "output_type": "stream",
          "name": "stdout",
          "text": [
            "1/1 [==============================] - 0s 29ms/step\n",
            "Input Sentence : \n",
            "The Food was alright but could've been better\n",
            "Bi-LSTM Model Prediction : Negative Review\n"
          ]
        }
      ],
      "source": [
        "make_prediction(\"The Food was alright but could've been better\")"
      ],
      "id": "4JAMqMCRN4vK"
    },
    {
      "cell_type": "code",
      "source": [
        "make_prediction('Service was very late, food was cold and not enjoyable')"
      ],
      "metadata": {
        "colab": {
          "base_uri": "https://localhost:8080/"
        },
        "id": "m-U7VvYqUkUO",
        "outputId": "6d50db05-4d29-4560-a2ea-d708784438f9"
      },
      "id": "m-U7VvYqUkUO",
      "execution_count": 55,
      "outputs": [
        {
          "output_type": "stream",
          "name": "stdout",
          "text": [
            "1/1 [==============================] - 0s 39ms/step\n",
            "Input Sentence : \n",
            "Service was very late, food was cold and not enjoyable\n",
            "Bi-LSTM Model Prediction : Negative Review\n"
          ]
        }
      ]
    },
    {
      "cell_type": "markdown",
      "metadata": {
        "id": "eb0ded49-3e44-48cc-8ab0-b4b67a8d7bc8"
      },
      "source": [
        "## Saving our best model"
      ],
      "id": "eb0ded49-3e44-48cc-8ab0-b4b67a8d7bc8"
    },
    {
      "cell_type": "code",
      "execution_count": 56,
      "metadata": {
        "execution": {
          "iopub.execute_input": "2023-09-02T11:35:33.787852Z",
          "iopub.status.busy": "2023-09-02T11:35:33.787483Z",
          "iopub.status.idle": "2023-09-02T11:35:33.832250Z",
          "shell.execute_reply": "2023-09-02T11:35:33.831315Z",
          "shell.execute_reply.started": "2023-09-02T11:35:33.787823Z"
        },
        "id": "HsOX9rpRoNFM",
        "trusted": true,
        "colab": {
          "base_uri": "https://localhost:8080/"
        },
        "outputId": "7e9d3a50-c345-4a5e-f13d-21fe6beab041"
      },
      "outputs": [
        {
          "output_type": "stream",
          "name": "stderr",
          "text": [
            "/usr/local/lib/python3.10/dist-packages/keras/src/engine/training.py:3000: UserWarning: You are saving your model as an HDF5 file via `model.save()`. This file format is considered legacy. We recommend using instead the native Keras format, e.g. `model.save('my_model.keras')`.\n",
            "  saving_api.save_model(\n"
          ]
        }
      ],
      "source": [
        "lstm_model.save('Bi_LSTM_model.h5')"
      ],
      "id": "HsOX9rpRoNFM"
    },
    {
      "cell_type": "code",
      "source": [
        "weights = text_vectorizer.get_weights()\n",
        "np.save(\"text_vectorization_weights.npy\", weights)"
      ],
      "metadata": {
        "id": "LxPlDlnDUweq"
      },
      "id": "LxPlDlnDUweq",
      "execution_count": 57,
      "outputs": []
    }
  ],
  "metadata": {
    "accelerator": "GPU",
    "colab": {
      "gpuType": "T4",
      "provenance": []
    },
    "kernelspec": {
      "display_name": "Python 3",
      "language": "python",
      "name": "python3"
    },
    "language_info": {
      "codemirror_mode": {
        "name": "ipython",
        "version": 3
      },
      "file_extension": ".py",
      "mimetype": "text/x-python",
      "name": "python",
      "nbconvert_exporter": "python",
      "pygments_lexer": "ipython3",
      "version": "3.10.12"
    }
  },
  "nbformat": 4,
  "nbformat_minor": 5
}